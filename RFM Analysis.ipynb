{
 "cells": [
  {
   "cell_type": "markdown",
   "metadata": {},
   "source": [
    "# RFM Analysis"
   ]
  },
  {
   "cell_type": "markdown",
   "metadata": {},
   "source": [
    "This iPython notebook explains how to perform RFM analysis from customer purchase history data. The sample orders file is Sample - Superstore dataset from Tableau Software.\n",
    "\n",
    "If you have suggestions or improvements please contribute on https://github.com/joaolcorreia/RFM-analysis"
   ]
  },
  {
   "cell_type": "code",
   "execution_count": 1,
   "metadata": {
    "collapsed": false,
    "jupyter": {
     "outputs_hidden": false
    }
   },
   "outputs": [],
   "source": [
    "import pandas as pd\n",
    "import warnings\n",
    "warnings.filterwarnings('ignore')"
   ]
  },
  {
   "cell_type": "markdown",
   "metadata": {},
   "source": [
    "Read the sample orders file, containing all past purchases for all customers."
   ]
  },
  {
   "cell_type": "code",
   "execution_count": 2,
   "metadata": {
    "collapsed": false,
    "jupyter": {
     "outputs_hidden": false
    }
   },
   "outputs": [],
   "source": [
    "orders = pd.read_csv('sample-orders.csv',sep=',')"
   ]
  },
  {
   "cell_type": "code",
   "execution_count": 3,
   "metadata": {
    "collapsed": false,
    "jupyter": {
     "outputs_hidden": false
    }
   },
   "outputs": [
    {
     "data": {
      "text/html": [
       "<div>\n",
       "<table border=\"1\" class=\"dataframe\">\n",
       "  <thead>\n",
       "    <tr style=\"text-align: right;\">\n",
       "      <th></th>\n",
       "      <th>order_date</th>\n",
       "      <th>order_id</th>\n",
       "      <th>customer</th>\n",
       "      <th>grand_total</th>\n",
       "    </tr>\n",
       "  </thead>\n",
       "  <tbody>\n",
       "    <tr>\n",
       "      <th>0</th>\n",
       "      <td>9/7/11</td>\n",
       "      <td>CA-2011-100006</td>\n",
       "      <td>Dennis Kane</td>\n",
       "      <td>378</td>\n",
       "    </tr>\n",
       "    <tr>\n",
       "      <th>1</th>\n",
       "      <td>7/8/11</td>\n",
       "      <td>CA-2011-100090</td>\n",
       "      <td>Ed Braxton</td>\n",
       "      <td>699</td>\n",
       "    </tr>\n",
       "    <tr>\n",
       "      <th>2</th>\n",
       "      <td>3/14/11</td>\n",
       "      <td>CA-2011-100293</td>\n",
       "      <td>Neil Franz�sisch</td>\n",
       "      <td>91</td>\n",
       "    </tr>\n",
       "    <tr>\n",
       "      <th>3</th>\n",
       "      <td>1/29/11</td>\n",
       "      <td>CA-2011-100328</td>\n",
       "      <td>Jasper Cacioppo</td>\n",
       "      <td>4</td>\n",
       "    </tr>\n",
       "    <tr>\n",
       "      <th>4</th>\n",
       "      <td>4/8/11</td>\n",
       "      <td>CA-2011-100363</td>\n",
       "      <td>Jim Mitchum</td>\n",
       "      <td>21</td>\n",
       "    </tr>\n",
       "  </tbody>\n",
       "</table>\n",
       "</div>"
      ],
      "text/plain": [
       "  order_date        order_id          customer  grand_total\n",
       "0     9/7/11  CA-2011-100006       Dennis Kane          378\n",
       "1     7/8/11  CA-2011-100090        Ed Braxton          699\n",
       "2    3/14/11  CA-2011-100293  Neil Franz�sisch           91\n",
       "3    1/29/11  CA-2011-100328   Jasper Cacioppo            4\n",
       "4     4/8/11  CA-2011-100363       Jim Mitchum           21"
      ]
     },
     "execution_count": 3,
     "metadata": {},
     "output_type": "execute_result"
    }
   ],
   "source": [
    "orders.head()"
   ]
  },
  {
   "cell_type": "markdown",
   "metadata": {},
   "source": [
    "## Create the RFM Table"
   ]
  },
  {
   "cell_type": "markdown",
   "metadata": {},
   "source": [
    "Since recency is calculated for a point in time and the Tableau Super Store dataset last order date is Dec 31 2014, that is the date we will use to calculate recency."
   ]
  },
  {
   "cell_type": "markdown",
   "metadata": {},
   "source": [
    "Set this date to the current day and extract all orders until yesterday."
   ]
  },
  {
   "cell_type": "code",
   "execution_count": 4,
   "metadata": {
    "collapsed": true,
    "jupyter": {
     "outputs_hidden": true
    }
   },
   "outputs": [],
   "source": [
    "import datetime as dt\n",
    "NOW = dt.datetime(2014,12,31)"
   ]
  },
  {
   "cell_type": "code",
   "execution_count": 5,
   "metadata": {
    "collapsed": false,
    "jupyter": {
     "outputs_hidden": false
    }
   },
   "outputs": [],
   "source": [
    "# Make the date_placed column datetime\n",
    "orders['order_date'] = pd.to_datetime(orders['order_date'])"
   ]
  },
  {
   "cell_type": "markdown",
   "metadata": {},
   "source": [
    "Create the RFM Table"
   ]
  },
  {
   "cell_type": "code",
   "execution_count": 6,
   "metadata": {
    "collapsed": false,
    "jupyter": {
     "outputs_hidden": false
    }
   },
   "outputs": [],
   "source": [
    "rfmTable = orders.groupby('customer').agg({'order_date': lambda x: (NOW - x.max()).days, # Recency\n",
    "                                        'order_id': lambda x: len(x),      # Frequency\n",
    "                                        'grand_total': lambda x: x.sum()}) # Monetary Value\n",
    "\n",
    "rfmTable['order_date'] = rfmTable['order_date'].astype(int)\n",
    "rfmTable.rename(columns={'order_date': 'recency', \n",
    "                         'order_id': 'frequency', \n",
    "                         'grand_total': 'monetary_value'}, inplace=True)"
   ]
  },
  {
   "cell_type": "markdown",
   "metadata": {},
   "source": [
    "## Validating the RFM Table"
   ]
  },
  {
   "cell_type": "code",
   "execution_count": 7,
   "metadata": {
    "collapsed": false,
    "jupyter": {
     "outputs_hidden": false
    }
   },
   "outputs": [
    {
     "data": {
      "text/html": [
       "<div>\n",
       "<table border=\"1\" class=\"dataframe\">\n",
       "  <thead>\n",
       "    <tr style=\"text-align: right;\">\n",
       "      <th></th>\n",
       "      <th>frequency</th>\n",
       "      <th>recency</th>\n",
       "      <th>monetary_value</th>\n",
       "    </tr>\n",
       "    <tr>\n",
       "      <th>customer</th>\n",
       "      <th></th>\n",
       "      <th></th>\n",
       "      <th></th>\n",
       "    </tr>\n",
       "  </thead>\n",
       "  <tbody>\n",
       "    <tr>\n",
       "      <th>Aaron Bergman</th>\n",
       "      <td>3</td>\n",
       "      <td>415</td>\n",
       "      <td>887</td>\n",
       "    </tr>\n",
       "    <tr>\n",
       "      <th>Aaron Hawkins</th>\n",
       "      <td>7</td>\n",
       "      <td>12</td>\n",
       "      <td>1744</td>\n",
       "    </tr>\n",
       "    <tr>\n",
       "      <th>Aaron Smayling</th>\n",
       "      <td>7</td>\n",
       "      <td>88</td>\n",
       "      <td>3050</td>\n",
       "    </tr>\n",
       "    <tr>\n",
       "      <th>Adam Bellavance</th>\n",
       "      <td>8</td>\n",
       "      <td>54</td>\n",
       "      <td>7756</td>\n",
       "    </tr>\n",
       "    <tr>\n",
       "      <th>Adam Hart</th>\n",
       "      <td>10</td>\n",
       "      <td>34</td>\n",
       "      <td>3249</td>\n",
       "    </tr>\n",
       "  </tbody>\n",
       "</table>\n",
       "</div>"
      ],
      "text/plain": [
       "                 frequency  recency  monetary_value\n",
       "customer                                           \n",
       "Aaron Bergman            3      415             887\n",
       "Aaron Hawkins            7       12            1744\n",
       "Aaron Smayling           7       88            3050\n",
       "Adam Bellavance          8       54            7756\n",
       "Adam Hart               10       34            3249"
      ]
     },
     "execution_count": 7,
     "metadata": {},
     "output_type": "execute_result"
    }
   ],
   "source": [
    "rfmTable.head()"
   ]
  },
  {
   "cell_type": "markdown",
   "metadata": {},
   "source": [
    "Customer **Aaron Bergman** has frequency:3, monetary value:$887 and recency:415 days."
   ]
  },
  {
   "cell_type": "code",
   "execution_count": 8,
   "metadata": {
    "collapsed": false,
    "jupyter": {
     "outputs_hidden": false
    }
   },
   "outputs": [
    {
     "data": {
      "text/html": [
       "<div>\n",
       "<table border=\"1\" class=\"dataframe\">\n",
       "  <thead>\n",
       "    <tr style=\"text-align: right;\">\n",
       "      <th></th>\n",
       "      <th>order_date</th>\n",
       "      <th>order_id</th>\n",
       "      <th>customer</th>\n",
       "      <th>grand_total</th>\n",
       "    </tr>\n",
       "  </thead>\n",
       "  <tbody>\n",
       "    <tr>\n",
       "      <th>624</th>\n",
       "      <td>2011-02-19</td>\n",
       "      <td>CA-2011-152905</td>\n",
       "      <td>Aaron Bergman</td>\n",
       "      <td>13</td>\n",
       "    </tr>\n",
       "    <tr>\n",
       "      <th>665</th>\n",
       "      <td>2011-03-07</td>\n",
       "      <td>CA-2011-156587</td>\n",
       "      <td>Aaron Bergman</td>\n",
       "      <td>310</td>\n",
       "    </tr>\n",
       "    <tr>\n",
       "      <th>2336</th>\n",
       "      <td>2013-11-11</td>\n",
       "      <td>CA-2013-140935</td>\n",
       "      <td>Aaron Bergman</td>\n",
       "      <td>564</td>\n",
       "    </tr>\n",
       "  </tbody>\n",
       "</table>\n",
       "</div>"
      ],
      "text/plain": [
       "     order_date        order_id       customer  grand_total\n",
       "624  2011-02-19  CA-2011-152905  Aaron Bergman           13\n",
       "665  2011-03-07  CA-2011-156587  Aaron Bergman          310\n",
       "2336 2013-11-11  CA-2013-140935  Aaron Bergman          564"
      ]
     },
     "execution_count": 8,
     "metadata": {},
     "output_type": "execute_result"
    }
   ],
   "source": [
    "aaron = orders[orders['customer']=='Aaron Bergman']\n",
    "aaron"
   ]
  },
  {
   "cell_type": "markdown",
   "metadata": {},
   "source": [
    "Inserting the date of Aaron purchase and comparing it to the recency in the rfmTable we verify our RFM table is correct."
   ]
  },
  {
   "cell_type": "code",
   "execution_count": 9,
   "metadata": {
    "collapsed": false,
    "jupyter": {
     "outputs_hidden": false
    }
   },
   "outputs": [
    {
     "data": {
      "text/plain": [
       "True"
      ]
     },
     "execution_count": 9,
     "metadata": {},
     "output_type": "execute_result"
    }
   ],
   "source": [
    "(NOW - dt.datetime(2013,11,11)).days==415"
   ]
  },
  {
   "cell_type": "markdown",
   "metadata": {},
   "source": [
    "## Determining RFM Quartiles"
   ]
  },
  {
   "cell_type": "code",
   "execution_count": 10,
   "metadata": {
    "collapsed": false,
    "jupyter": {
     "outputs_hidden": false
    }
   },
   "outputs": [],
   "source": [
    "quantiles = rfmTable.quantile(q=[0.25,0.5,0.75])"
   ]
  },
  {
   "cell_type": "code",
   "execution_count": 11,
   "metadata": {
    "collapsed": false,
    "jupyter": {
     "outputs_hidden": false
    }
   },
   "outputs": [
    {
     "data": {
      "text/html": [
       "<div>\n",
       "<table border=\"1\" class=\"dataframe\">\n",
       "  <thead>\n",
       "    <tr style=\"text-align: right;\">\n",
       "      <th></th>\n",
       "      <th>frequency</th>\n",
       "      <th>recency</th>\n",
       "      <th>monetary_value</th>\n",
       "    </tr>\n",
       "  </thead>\n",
       "  <tbody>\n",
       "    <tr>\n",
       "      <th>0.25</th>\n",
       "      <td>5.0</td>\n",
       "      <td>30.0</td>\n",
       "      <td>1145.0</td>\n",
       "    </tr>\n",
       "    <tr>\n",
       "      <th>0.50</th>\n",
       "      <td>6.0</td>\n",
       "      <td>75.0</td>\n",
       "      <td>2257.0</td>\n",
       "    </tr>\n",
       "    <tr>\n",
       "      <th>0.75</th>\n",
       "      <td>8.0</td>\n",
       "      <td>183.0</td>\n",
       "      <td>3784.0</td>\n",
       "    </tr>\n",
       "  </tbody>\n",
       "</table>\n",
       "</div>"
      ],
      "text/plain": [
       "      frequency  recency  monetary_value\n",
       "0.25        5.0     30.0          1145.0\n",
       "0.50        6.0     75.0          2257.0\n",
       "0.75        8.0    183.0          3784.0"
      ]
     },
     "execution_count": 11,
     "metadata": {},
     "output_type": "execute_result"
    }
   ],
   "source": [
    "quantiles"
   ]
  },
  {
   "cell_type": "markdown",
   "metadata": {},
   "source": [
    "Send quantiles to a dictionary, easier to use."
   ]
  },
  {
   "cell_type": "code",
   "execution_count": 12,
   "metadata": {
    "collapsed": false,
    "jupyter": {
     "outputs_hidden": false
    }
   },
   "outputs": [],
   "source": [
    "quantiles = quantiles.to_dict()"
   ]
  },
  {
   "cell_type": "code",
   "execution_count": 13,
   "metadata": {
    "collapsed": false,
    "jupyter": {
     "outputs_hidden": false
    }
   },
   "outputs": [
    {
     "data": {
      "text/plain": [
       "{'frequency': {0.25: 5.0, 0.5: 6.0, 0.75: 8.0},\n",
       " 'monetary_value': {0.25: 1145.0, 0.5: 2257.0, 0.75: 3784.0},\n",
       " 'recency': {0.25: 30.0, 0.5: 75.0, 0.75: 183.0}}"
      ]
     },
     "execution_count": 13,
     "metadata": {},
     "output_type": "execute_result"
    }
   ],
   "source": [
    "quantiles"
   ]
  },
  {
   "cell_type": "markdown",
   "metadata": {},
   "source": [
    "## Creating the RFM segmentation table"
   ]
  },
  {
   "cell_type": "code",
   "execution_count": 14,
   "metadata": {
    "collapsed": true,
    "jupyter": {
     "outputs_hidden": true
    }
   },
   "outputs": [],
   "source": [
    "rfmSegmentation = rfmTable"
   ]
  },
  {
   "cell_type": "markdown",
   "metadata": {},
   "source": [
    "We create two classes for the RFM segmentation since, being high recency is bad, while high frequency and monetary value is good. "
   ]
  },
  {
   "cell_type": "code",
   "execution_count": 15,
   "metadata": {
    "collapsed": false,
    "jupyter": {
     "outputs_hidden": false
    }
   },
   "outputs": [],
   "source": [
    "# Arguments (x = value, p = recency, monetary_value, frequency, k = quartiles dict)\n",
    "def RClass(x,p,d):\n",
    "    if x <= d[p][0.25]:\n",
    "        return 1\n",
    "    elif x <= d[p][0.50]:\n",
    "        return 2\n",
    "    elif x <= d[p][0.75]: \n",
    "        return 3\n",
    "    else:\n",
    "        return 4\n",
    "    \n",
    "# Arguments (x = value, p = recency, monetary_value, frequency, k = quartiles dict)\n",
    "def FMClass(x,p,d):\n",
    "    if x <= d[p][0.25]:\n",
    "        return 4\n",
    "    elif x <= d[p][0.50]:\n",
    "        return 3\n",
    "    elif x <= d[p][0.75]: \n",
    "        return 2\n",
    "    else:\n",
    "        return 1\n"
   ]
  },
  {
   "cell_type": "code",
   "execution_count": 16,
   "metadata": {
    "collapsed": false,
    "jupyter": {
     "outputs_hidden": false
    }
   },
   "outputs": [],
   "source": [
    "rfmSegmentation['R_Quartile'] = rfmSegmentation['recency'].apply(RClass, args=('recency',quantiles,))\n",
    "rfmSegmentation['F_Quartile'] = rfmSegmentation['frequency'].apply(FMClass, args=('frequency',quantiles,))\n",
    "rfmSegmentation['M_Quartile'] = rfmSegmentation['monetary_value'].apply(FMClass, args=('monetary_value',quantiles,))"
   ]
  },
  {
   "cell_type": "code",
   "execution_count": 17,
   "metadata": {
    "collapsed": false,
    "jupyter": {
     "outputs_hidden": false
    }
   },
   "outputs": [],
   "source": [
    "rfmSegmentation['RFMClass'] = rfmSegmentation.R_Quartile.map(str) \\\n",
    "                            + rfmSegmentation.F_Quartile.map(str) \\\n",
    "                            + rfmSegmentation.M_Quartile.map(str)"
   ]
  },
  {
   "cell_type": "code",
   "execution_count": 18,
   "metadata": {
    "collapsed": false,
    "jupyter": {
     "outputs_hidden": false
    }
   },
   "outputs": [
    {
     "data": {
      "text/html": [
       "<div>\n",
       "<table border=\"1\" class=\"dataframe\">\n",
       "  <thead>\n",
       "    <tr style=\"text-align: right;\">\n",
       "      <th></th>\n",
       "      <th>frequency</th>\n",
       "      <th>recency</th>\n",
       "      <th>monetary_value</th>\n",
       "      <th>R_Quartile</th>\n",
       "      <th>F_Quartile</th>\n",
       "      <th>M_Quartile</th>\n",
       "      <th>RFMClass</th>\n",
       "    </tr>\n",
       "    <tr>\n",
       "      <th>customer</th>\n",
       "      <th></th>\n",
       "      <th></th>\n",
       "      <th></th>\n",
       "      <th></th>\n",
       "      <th></th>\n",
       "      <th></th>\n",
       "      <th></th>\n",
       "    </tr>\n",
       "  </thead>\n",
       "  <tbody>\n",
       "    <tr>\n",
       "      <th>Aaron Bergman</th>\n",
       "      <td>3</td>\n",
       "      <td>415</td>\n",
       "      <td>887</td>\n",
       "      <td>4</td>\n",
       "      <td>4</td>\n",
       "      <td>4</td>\n",
       "      <td>444</td>\n",
       "    </tr>\n",
       "    <tr>\n",
       "      <th>Aaron Hawkins</th>\n",
       "      <td>7</td>\n",
       "      <td>12</td>\n",
       "      <td>1744</td>\n",
       "      <td>1</td>\n",
       "      <td>2</td>\n",
       "      <td>3</td>\n",
       "      <td>123</td>\n",
       "    </tr>\n",
       "    <tr>\n",
       "      <th>Aaron Smayling</th>\n",
       "      <td>7</td>\n",
       "      <td>88</td>\n",
       "      <td>3050</td>\n",
       "      <td>3</td>\n",
       "      <td>2</td>\n",
       "      <td>2</td>\n",
       "      <td>322</td>\n",
       "    </tr>\n",
       "    <tr>\n",
       "      <th>Adam Bellavance</th>\n",
       "      <td>8</td>\n",
       "      <td>54</td>\n",
       "      <td>7756</td>\n",
       "      <td>2</td>\n",
       "      <td>2</td>\n",
       "      <td>1</td>\n",
       "      <td>221</td>\n",
       "    </tr>\n",
       "    <tr>\n",
       "      <th>Adam Hart</th>\n",
       "      <td>10</td>\n",
       "      <td>34</td>\n",
       "      <td>3249</td>\n",
       "      <td>2</td>\n",
       "      <td>1</td>\n",
       "      <td>2</td>\n",
       "      <td>212</td>\n",
       "    </tr>\n",
       "  </tbody>\n",
       "</table>\n",
       "</div>"
      ],
      "text/plain": [
       "                 frequency  recency  monetary_value  R_Quartile  F_Quartile  \\\n",
       "customer                                                                      \n",
       "Aaron Bergman            3      415             887           4           4   \n",
       "Aaron Hawkins            7       12            1744           1           2   \n",
       "Aaron Smayling           7       88            3050           3           2   \n",
       "Adam Bellavance          8       54            7756           2           2   \n",
       "Adam Hart               10       34            3249           2           1   \n",
       "\n",
       "                 M_Quartile RFMClass  \n",
       "customer                              \n",
       "Aaron Bergman             4      444  \n",
       "Aaron Hawkins             3      123  \n",
       "Aaron Smayling            2      322  \n",
       "Adam Bellavance           1      221  \n",
       "Adam Hart                 2      212  "
      ]
     },
     "execution_count": 18,
     "metadata": {},
     "output_type": "execute_result"
    }
   ],
   "source": [
    "rfmSegmentation.head()"
   ]
  },
  {
   "cell_type": "code",
   "execution_count": 19,
   "metadata": {
    "collapsed": false,
    "jupyter": {
     "outputs_hidden": false
    }
   },
   "outputs": [],
   "source": [
    "# Uncomment any of the following lines to: copy data to clipboard or save it to a CSV file.\n",
    "# rfmSegmentation.to_clipboard()\n",
    "# rfmSegmentation.to_csv('rfm-table.csv', sep=',')"
   ]
  },
  {
   "cell_type": "markdown",
   "metadata": {},
   "source": [
    "Who are the top 5 best customers? by RFM Class (111), high spenders who buy recently and frequently?"
   ]
  },
  {
   "cell_type": "code",
   "execution_count": 20,
   "metadata": {
    "collapsed": false,
    "jupyter": {
     "outputs_hidden": false
    }
   },
   "outputs": [
    {
     "data": {
      "text/html": [
       "<div>\n",
       "<table border=\"1\" class=\"dataframe\">\n",
       "  <thead>\n",
       "    <tr style=\"text-align: right;\">\n",
       "      <th></th>\n",
       "      <th>frequency</th>\n",
       "      <th>recency</th>\n",
       "      <th>monetary_value</th>\n",
       "      <th>R_Quartile</th>\n",
       "      <th>F_Quartile</th>\n",
       "      <th>M_Quartile</th>\n",
       "      <th>RFMClass</th>\n",
       "    </tr>\n",
       "    <tr>\n",
       "      <th>customer</th>\n",
       "      <th></th>\n",
       "      <th></th>\n",
       "      <th></th>\n",
       "      <th></th>\n",
       "      <th></th>\n",
       "      <th></th>\n",
       "      <th></th>\n",
       "    </tr>\n",
       "  </thead>\n",
       "  <tbody>\n",
       "    <tr>\n",
       "      <th>Sanjit Engle</th>\n",
       "      <td>11</td>\n",
       "      <td>9</td>\n",
       "      <td>12210</td>\n",
       "      <td>1</td>\n",
       "      <td>1</td>\n",
       "      <td>1</td>\n",
       "      <td>111</td>\n",
       "    </tr>\n",
       "    <tr>\n",
       "      <th>John Lee</th>\n",
       "      <td>11</td>\n",
       "      <td>21</td>\n",
       "      <td>9801</td>\n",
       "      <td>1</td>\n",
       "      <td>1</td>\n",
       "      <td>1</td>\n",
       "      <td>111</td>\n",
       "    </tr>\n",
       "    <tr>\n",
       "      <th>Pete Kriz</th>\n",
       "      <td>12</td>\n",
       "      <td>9</td>\n",
       "      <td>8647</td>\n",
       "      <td>1</td>\n",
       "      <td>1</td>\n",
       "      <td>1</td>\n",
       "      <td>111</td>\n",
       "    </tr>\n",
       "    <tr>\n",
       "      <th>Harry Marie</th>\n",
       "      <td>10</td>\n",
       "      <td>2</td>\n",
       "      <td>8237</td>\n",
       "      <td>1</td>\n",
       "      <td>1</td>\n",
       "      <td>1</td>\n",
       "      <td>111</td>\n",
       "    </tr>\n",
       "    <tr>\n",
       "      <th>Lena Creighton</th>\n",
       "      <td>12</td>\n",
       "      <td>16</td>\n",
       "      <td>7661</td>\n",
       "      <td>1</td>\n",
       "      <td>1</td>\n",
       "      <td>1</td>\n",
       "      <td>111</td>\n",
       "    </tr>\n",
       "  </tbody>\n",
       "</table>\n",
       "</div>"
      ],
      "text/plain": [
       "                frequency  recency  monetary_value  R_Quartile  F_Quartile  \\\n",
       "customer                                                                     \n",
       "Sanjit Engle           11        9           12210           1           1   \n",
       "John Lee               11       21            9801           1           1   \n",
       "Pete Kriz              12        9            8647           1           1   \n",
       "Harry Marie            10        2            8237           1           1   \n",
       "Lena Creighton         12       16            7661           1           1   \n",
       "\n",
       "                M_Quartile RFMClass  \n",
       "customer                             \n",
       "Sanjit Engle             1      111  \n",
       "John Lee                 1      111  \n",
       "Pete Kriz                1      111  \n",
       "Harry Marie              1      111  \n",
       "Lena Creighton           1      111  "
      ]
     },
     "execution_count": 20,
     "metadata": {},
     "output_type": "execute_result"
    }
   ],
   "source": [
    "rfmSegmentation[rfmSegmentation['RFMClass']=='111'].sort('monetary_value', ascending=False).head(5)"
   ]
  },
  {
   "cell_type": "code",
   "execution_count": 1,
   "metadata": {},
   "outputs": [
    {
     "data": {
      "text/html": [
       "<div>\n",
       "<style scoped>\n",
       "    .dataframe tbody tr th:only-of-type {\n",
       "        vertical-align: middle;\n",
       "    }\n",
       "\n",
       "    .dataframe tbody tr th {\n",
       "        vertical-align: top;\n",
       "    }\n",
       "\n",
       "    .dataframe thead th {\n",
       "        text-align: right;\n",
       "    }\n",
       "</style>\n",
       "<table border=\"1\" class=\"dataframe\">\n",
       "  <thead>\n",
       "    <tr style=\"text-align: right;\">\n",
       "      <th></th>\n",
       "      <th>customer</th>\n",
       "      <th>frequency</th>\n",
       "      <th>recency</th>\n",
       "      <th>monetary_value</th>\n",
       "      <th>R_Quartile</th>\n",
       "      <th>F_Quartile</th>\n",
       "      <th>M_Quartile</th>\n",
       "      <th>RFMClass</th>\n",
       "      <th>product_interest</th>\n",
       "      <th>promotion_frequency</th>\n",
       "      <th>update_frequency</th>\n",
       "    </tr>\n",
       "  </thead>\n",
       "  <tbody>\n",
       "    <tr>\n",
       "      <th>0</th>\n",
       "      <td>Aaron Bergman</td>\n",
       "      <td>3</td>\n",
       "      <td>415</td>\n",
       "      <td>887</td>\n",
       "      <td>4</td>\n",
       "      <td>4</td>\n",
       "      <td>4</td>\n",
       "      <td>444</td>\n",
       "      <td>joggers</td>\n",
       "      <td>Once a month</td>\n",
       "      <td>No updates</td>\n",
       "    </tr>\n",
       "    <tr>\n",
       "      <th>1</th>\n",
       "      <td>Aaron Hawkins</td>\n",
       "      <td>7</td>\n",
       "      <td>12</td>\n",
       "      <td>1744</td>\n",
       "      <td>1</td>\n",
       "      <td>2</td>\n",
       "      <td>3</td>\n",
       "      <td>123</td>\n",
       "      <td>jeans</td>\n",
       "      <td>Every 2 days</td>\n",
       "      <td>Every update</td>\n",
       "    </tr>\n",
       "    <tr>\n",
       "      <th>2</th>\n",
       "      <td>Aaron Smayling</td>\n",
       "      <td>7</td>\n",
       "      <td>88</td>\n",
       "      <td>3050</td>\n",
       "      <td>3</td>\n",
       "      <td>2</td>\n",
       "      <td>2</td>\n",
       "      <td>322</td>\n",
       "      <td>formals</td>\n",
       "      <td>Every 2 weeks</td>\n",
       "      <td>Updates on interest</td>\n",
       "    </tr>\n",
       "    <tr>\n",
       "      <th>3</th>\n",
       "      <td>Adam Bellavance</td>\n",
       "      <td>8</td>\n",
       "      <td>54</td>\n",
       "      <td>7756</td>\n",
       "      <td>2</td>\n",
       "      <td>2</td>\n",
       "      <td>1</td>\n",
       "      <td>221</td>\n",
       "      <td>hats</td>\n",
       "      <td>Every 2 days</td>\n",
       "      <td>Every update</td>\n",
       "    </tr>\n",
       "    <tr>\n",
       "      <th>4</th>\n",
       "      <td>Adam Hart</td>\n",
       "      <td>10</td>\n",
       "      <td>34</td>\n",
       "      <td>3249</td>\n",
       "      <td>2</td>\n",
       "      <td>1</td>\n",
       "      <td>2</td>\n",
       "      <td>212</td>\n",
       "      <td>oversize</td>\n",
       "      <td>Every week</td>\n",
       "      <td>Every update</td>\n",
       "    </tr>\n",
       "  </tbody>\n",
       "</table>\n",
       "</div>"
      ],
      "text/plain": [
       "          customer  frequency  recency  monetary_value  R_Quartile  \\\n",
       "0    Aaron Bergman          3      415             887           4   \n",
       "1    Aaron Hawkins          7       12            1744           1   \n",
       "2   Aaron Smayling          7       88            3050           3   \n",
       "3  Adam Bellavance          8       54            7756           2   \n",
       "4        Adam Hart         10       34            3249           2   \n",
       "\n",
       "   F_Quartile  M_Quartile  RFMClass product_interest promotion_frequency  \\\n",
       "0           4           4       444          joggers        Once a month   \n",
       "1           2           3       123            jeans        Every 2 days   \n",
       "2           2           2       322          formals       Every 2 weeks   \n",
       "3           2           1       221             hats        Every 2 days   \n",
       "4           1           2       212         oversize          Every week   \n",
       "\n",
       "      update_frequency  \n",
       "0           No updates  \n",
       "1         Every update  \n",
       "2  Updates on interest  \n",
       "3         Every update  \n",
       "4         Every update  "
      ]
     },
     "execution_count": 1,
     "metadata": {},
     "output_type": "execute_result"
    }
   ],
   "source": [
    "import pandas as pd\n",
    "import numpy as np\n",
    "\n",
    "# Load the RFM table csv file\n",
    "rfm_table_path = 'rfm-table.csv'\n",
    "rfm_table = pd.read_csv(rfm_table_path, encoding='ISO-8859-1')\n",
    "\n",
    "# Define the product categories\n",
    "product_categories = ['hoodies', 'shirt', 'tracksuits', 'jeans', 'oversize', 'polo', \n",
    "                      'joggers', 'hats', 'trendy sections', 'shoes', 'formals']\n",
    "\n",
    "# Assign a random product category to each customer\n",
    "np.random.seed(42)  # For reproducibility\n",
    "rfm_table['product_interest'] = np.random.choice(product_categories, size=len(rfm_table))\n",
    "\n",
    "# Define promotion and update frequency based on RFM scores\n",
    "def set_promotion_update_frequency(row):\n",
    "    if row['RFMClass'] == 444:\n",
    "        return 'Once a month', 'No updates'\n",
    "    elif row['R_Quartile'] == 1 or row['M_Quartile'] == 1:\n",
    "        return 'Every 2 days', 'Every update'\n",
    "    elif row['F_Quartile'] == 1:\n",
    "        return 'Every week', 'Every update'\n",
    "    else:\n",
    "        return 'Every 2 weeks', 'Updates on interest'\n",
    "\n",
    "# Apply the function to each row\n",
    "rfm_table[['promotion_frequency', 'update_frequency']] = rfm_table.apply(set_promotion_update_frequency, axis=1, result_type=\"expand\")\n",
    "\n",
    "# Save the updated DataFrame to a new CSV file\n",
    "updated_rfm_table_path = 'updated_rfm_table.csv'\n",
    "rfm_table.to_csv(updated_rfm_table_path, index=False)\n",
    "\n",
    "# Display the first few rows of the updated RFM table\n",
    "rfm_table.head()\n"
   ]
  },
  {
   "cell_type": "code",
   "execution_count": 3,
   "metadata": {},
   "outputs": [
    {
     "data": {
      "text/html": [
       "<div>\n",
       "<style scoped>\n",
       "    .dataframe tbody tr th:only-of-type {\n",
       "        vertical-align: middle;\n",
       "    }\n",
       "\n",
       "    .dataframe tbody tr th {\n",
       "        vertical-align: top;\n",
       "    }\n",
       "\n",
       "    .dataframe thead th {\n",
       "        text-align: right;\n",
       "    }\n",
       "</style>\n",
       "<table border=\"1\" class=\"dataframe\">\n",
       "  <thead>\n",
       "    <tr style=\"text-align: right;\">\n",
       "      <th></th>\n",
       "      <th>customer</th>\n",
       "      <th>frequency</th>\n",
       "      <th>recency</th>\n",
       "      <th>monetary_value</th>\n",
       "      <th>R_Quartile</th>\n",
       "      <th>F_Quartile</th>\n",
       "      <th>M_Quartile</th>\n",
       "      <th>RFMClass</th>\n",
       "      <th>product_interest</th>\n",
       "      <th>promotion_frequency</th>\n",
       "      <th>update_frequency</th>\n",
       "    </tr>\n",
       "  </thead>\n",
       "  <tbody>\n",
       "    <tr>\n",
       "      <th>0</th>\n",
       "      <td>Aaron Bergman</td>\n",
       "      <td>3</td>\n",
       "      <td>415</td>\n",
       "      <td>887</td>\n",
       "      <td>4</td>\n",
       "      <td>4</td>\n",
       "      <td>4</td>\n",
       "      <td>444</td>\n",
       "      <td>joggers</td>\n",
       "      <td>Once every 2 months</td>\n",
       "      <td>No updates</td>\n",
       "    </tr>\n",
       "    <tr>\n",
       "      <th>1</th>\n",
       "      <td>Aaron Hawkins</td>\n",
       "      <td>7</td>\n",
       "      <td>12</td>\n",
       "      <td>1744</td>\n",
       "      <td>1</td>\n",
       "      <td>2</td>\n",
       "      <td>3</td>\n",
       "      <td>123</td>\n",
       "      <td>jeans</td>\n",
       "      <td>Once everyday</td>\n",
       "      <td>Every update on interested category</td>\n",
       "    </tr>\n",
       "    <tr>\n",
       "      <th>2</th>\n",
       "      <td>Aaron Smayling</td>\n",
       "      <td>7</td>\n",
       "      <td>88</td>\n",
       "      <td>3050</td>\n",
       "      <td>3</td>\n",
       "      <td>2</td>\n",
       "      <td>2</td>\n",
       "      <td>322</td>\n",
       "      <td>formals</td>\n",
       "      <td>Once every 2 weeks</td>\n",
       "      <td>Updates on interests</td>\n",
       "    </tr>\n",
       "    <tr>\n",
       "      <th>3</th>\n",
       "      <td>Adam Bellavance</td>\n",
       "      <td>8</td>\n",
       "      <td>54</td>\n",
       "      <td>7756</td>\n",
       "      <td>2</td>\n",
       "      <td>2</td>\n",
       "      <td>1</td>\n",
       "      <td>221</td>\n",
       "      <td>hats</td>\n",
       "      <td>Once everyday</td>\n",
       "      <td>Every update on interested category</td>\n",
       "    </tr>\n",
       "    <tr>\n",
       "      <th>4</th>\n",
       "      <td>Adam Hart</td>\n",
       "      <td>10</td>\n",
       "      <td>34</td>\n",
       "      <td>3249</td>\n",
       "      <td>2</td>\n",
       "      <td>1</td>\n",
       "      <td>2</td>\n",
       "      <td>212</td>\n",
       "      <td>oversize</td>\n",
       "      <td>Once every week</td>\n",
       "      <td>Every update on interested category</td>\n",
       "    </tr>\n",
       "  </tbody>\n",
       "</table>\n",
       "</div>"
      ],
      "text/plain": [
       "          customer  frequency  recency  monetary_value  R_Quartile  \\\n",
       "0    Aaron Bergman          3      415             887           4   \n",
       "1    Aaron Hawkins          7       12            1744           1   \n",
       "2   Aaron Smayling          7       88            3050           3   \n",
       "3  Adam Bellavance          8       54            7756           2   \n",
       "4        Adam Hart         10       34            3249           2   \n",
       "\n",
       "   F_Quartile  M_Quartile  RFMClass product_interest  promotion_frequency  \\\n",
       "0           4           4       444          joggers  Once every 2 months   \n",
       "1           2           3       123            jeans        Once everyday   \n",
       "2           2           2       322          formals   Once every 2 weeks   \n",
       "3           2           1       221             hats        Once everyday   \n",
       "4           1           2       212         oversize      Once every week   \n",
       "\n",
       "                      update_frequency  \n",
       "0                           No updates  \n",
       "1  Every update on interested category  \n",
       "2                 Updates on interests  \n",
       "3  Every update on interested category  \n",
       "4  Every update on interested category  "
      ]
     },
     "execution_count": 3,
     "metadata": {},
     "output_type": "execute_result"
    }
   ],
   "source": [
    "import pandas as pd\n",
    "import numpy as np\n",
    "\n",
    "# Load the RFM table csv file\n",
    "rfm_table_path = 'rfm-table.csv'\n",
    "rfm_table = pd.read_csv(rfm_table_path, encoding='ISO-8859-1')\n",
    "\n",
    "# Define the product categories\n",
    "product_categories = ['hoodies', 'shirt', 'tracksuits', 'jeans', 'oversize', 'polo', \n",
    "                      'joggers', 'hats', 'trendy sections', 'shoes', 'formals']\n",
    "\n",
    "# Assign a random product category to each customer\n",
    "np.random.seed(42)  # For reproducibility\n",
    "rfm_table['product_interest'] = np.random.choice(product_categories, size=len(rfm_table))\n",
    "\n",
    "# Define the promotion frequency options\n",
    "promotion_frequency_options = [\n",
    "    'Once everyday', 'Once every 2 days', 'Once every 3 days',\n",
    "    'Once every week', 'Once every 2 weeks', 'Once every month', 'Once every 2 months'\n",
    "]\n",
    "\n",
    "# Define the update frequency options\n",
    "update_frequency_options = [\n",
    "    'Every update on interested category',\n",
    "    'Updates on interests',\n",
    "    'Updates on interested products alone',\n",
    "    'Updates on viewed products only',\n",
    "    'No updates'\n",
    "]\n",
    "\n",
    "# Define promotion and update frequency based on RFM scores\n",
    "def set_promotion_update_frequency(row):\n",
    "    if row['RFMClass'] == 444:\n",
    "        promotion_frequency = promotion_frequency_options[6]  # Once every 2 months\n",
    "        update_frequency = update_frequency_options[4]  # No updates\n",
    "    elif row['R_Quartile'] == 1 or row['M_Quartile'] == 1:\n",
    "        promotion_frequency = promotion_frequency_options[0]  # Once everyday\n",
    "        update_frequency = update_frequency_options[0]  # Every update on interested category\n",
    "    elif row['F_Quartile'] == 1:\n",
    "        promotion_frequency = promotion_frequency_options[3]  # Once every week\n",
    "        update_frequency = update_frequency_options[0]  # Every update on interested category\n",
    "    else:\n",
    "        promotion_frequency = promotion_frequency_options[4]  # Once every 2 weeks\n",
    "        update_frequency = update_frequency_options[1]  # Updates on interests\n",
    "    return promotion_frequency, update_frequency\n",
    "\n",
    "# Apply the function to each row\n",
    "rfm_table[['promotion_frequency', 'update_frequency']] = rfm_table.apply(set_promotion_update_frequency, axis=1, result_type=\"expand\")\n",
    "\n",
    "# Save the updated DataFrame to a new CSV file\n",
    "updated_rfm_table_path = 'updated_rfm_table.csv'\n",
    "rfm_table.to_csv(updated_rfm_table_path, index=False)\n",
    "\n",
    "# Display the first few rows of the updated RFM table\n",
    "rfm_table.head()\n"
   ]
  },
  {
   "cell_type": "code",
   "execution_count": 5,
   "metadata": {},
   "outputs": [
    {
     "name": "stdout",
     "output_type": "stream",
     "text": [
      "1: Every update on interested category\n",
      "2: Updates on interests\n",
      "3: Updates on interested products alone\n",
      "4: Updates on viewed products only\n",
      "5: No updates\n"
     ]
    }
   ],
   "source": [
    "import pandas as pd\n",
    "import numpy as np\n",
    "\n",
    "# Load the RFM table csv file\n",
    "rfm_table_path = 'rfm-table.csv'\n",
    "rfm_table = pd.read_csv(rfm_table_path, encoding='ISO-8859-1')\n",
    "\n",
    "# Define the product categories\n",
    "product_categories = ['hoodies', 'shirt', 'tracksuits', 'jeans', 'oversize', 'polo', \n",
    "                      'joggers', 'hats', 'trendy sections', 'shoes', 'formals']\n",
    "\n",
    "# Assign a random product category to each customer\n",
    "np.random.seed(42)  # For reproducibility\n",
    "rfm_table['product_interest'] = np.random.choice(product_categories, size=len(rfm_table))\n",
    "\n",
    "# Define the promotion frequency options\n",
    "promotion_frequency_options = [\n",
    "    'Once everyday', 'Once every 2 days', 'Once every 3 days',\n",
    "    'Once every week', 'Once every 2 weeks', 'Once every month', 'Once every 2 months'\n",
    "]\n",
    "\n",
    "# Define the update frequency options\n",
    "update_frequency_mapping = {\n",
    "    1: 'Every update on interested category',\n",
    "    2: 'Updates on interests',\n",
    "    3: 'Updates on interested products alone',\n",
    "    4: 'Updates on viewed products only',\n",
    "    5: 'No updates'\n",
    "}\n",
    "\n",
    "# Define promotion and update frequency based on RFM scores\n",
    "def set_promotion_update_frequency(row):\n",
    "    if row['RFMClass'] == 444:\n",
    "        promotion_frequency = promotion_frequency_options[6]  # Once every 2 months\n",
    "        update_frequency = 5  # No updates\n",
    "    elif row['R_Quartile'] == 1 or row['M_Quartile'] == 1:\n",
    "        promotion_frequency = promotion_frequency_options[0]  # Once everyday\n",
    "        update_frequency = 1  # Every update on interested category\n",
    "    elif row['F_Quartile'] == 1:\n",
    "        promotion_frequency = promotion_frequency_options[3]  # Once every week\n",
    "        update_frequency = 1  # Every update on interested category\n",
    "    else:\n",
    "        promotion_frequency = promotion_frequency_options[4]  # Once every 2 weeks\n",
    "        update_frequency = 2  # Updates on interests\n",
    "    return promotion_frequency, update_frequency\n",
    "\n",
    "# Apply the function to each row\n",
    "rfm_table[['promotion_frequency', 'update_frequency']] = rfm_table.apply(set_promotion_update_frequency, axis=1, result_type=\"expand\")\n",
    "\n",
    "# Save the updated DataFrame to a new CSV file\n",
    "updated_rfm_table_path = 'updated_rfm_table.csv'\n",
    "rfm_table.to_csv(updated_rfm_table_path, index=False)\n",
    "\n",
    "# Display the first few rows of the updated RFM table\n",
    "rfm_table.head()\n",
    "\n",
    "# Print the first few rows of the update frequency mapping for verification\n",
    "for key, value in update_frequency_mapping.items():\n",
    "    print(f\"{key}: {value}\")\n"
   ]
  },
  {
   "cell_type": "code",
   "execution_count": 9,
   "metadata": {},
   "outputs": [
    {
     "data": {
      "text/html": [
       "<div>\n",
       "<style scoped>\n",
       "    .dataframe tbody tr th:only-of-type {\n",
       "        vertical-align: middle;\n",
       "    }\n",
       "\n",
       "    .dataframe tbody tr th {\n",
       "        vertical-align: top;\n",
       "    }\n",
       "\n",
       "    .dataframe thead th {\n",
       "        text-align: right;\n",
       "    }\n",
       "</style>\n",
       "<table border=\"1\" class=\"dataframe\">\n",
       "  <thead>\n",
       "    <tr style=\"text-align: right;\">\n",
       "      <th></th>\n",
       "      <th>customer</th>\n",
       "      <th>frequency</th>\n",
       "      <th>recency</th>\n",
       "      <th>monetary_value</th>\n",
       "      <th>R_Quartile</th>\n",
       "      <th>F_Quartile</th>\n",
       "      <th>M_Quartile</th>\n",
       "      <th>RFMClass</th>\n",
       "      <th>product_interest</th>\n",
       "      <th>update_frequency</th>\n",
       "      <th>promotion_frequency</th>\n",
       "    </tr>\n",
       "  </thead>\n",
       "  <tbody>\n",
       "    <tr>\n",
       "      <th>0</th>\n",
       "      <td>Aaron Bergman</td>\n",
       "      <td>3</td>\n",
       "      <td>415</td>\n",
       "      <td>887</td>\n",
       "      <td>4</td>\n",
       "      <td>4</td>\n",
       "      <td>4</td>\n",
       "      <td>444</td>\n",
       "      <td>Joggers</td>\n",
       "      <td>5</td>\n",
       "      <td>Once every 2 months</td>\n",
       "    </tr>\n",
       "    <tr>\n",
       "      <th>1</th>\n",
       "      <td>Aaron Hawkins</td>\n",
       "      <td>7</td>\n",
       "      <td>12</td>\n",
       "      <td>1744</td>\n",
       "      <td>1</td>\n",
       "      <td>2</td>\n",
       "      <td>3</td>\n",
       "      <td>123</td>\n",
       "      <td>Jeans</td>\n",
       "      <td>1</td>\n",
       "      <td>Once everyday</td>\n",
       "    </tr>\n",
       "    <tr>\n",
       "      <th>2</th>\n",
       "      <td>Aaron Smayling</td>\n",
       "      <td>7</td>\n",
       "      <td>88</td>\n",
       "      <td>3050</td>\n",
       "      <td>3</td>\n",
       "      <td>2</td>\n",
       "      <td>2</td>\n",
       "      <td>322</td>\n",
       "      <td>Formals</td>\n",
       "      <td>3</td>\n",
       "      <td>Once every 2 weeks</td>\n",
       "    </tr>\n",
       "    <tr>\n",
       "      <th>3</th>\n",
       "      <td>Adam Bellavance</td>\n",
       "      <td>8</td>\n",
       "      <td>54</td>\n",
       "      <td>7756</td>\n",
       "      <td>2</td>\n",
       "      <td>2</td>\n",
       "      <td>1</td>\n",
       "      <td>221</td>\n",
       "      <td>Hats</td>\n",
       "      <td>1</td>\n",
       "      <td>Once everyday</td>\n",
       "    </tr>\n",
       "    <tr>\n",
       "      <th>4</th>\n",
       "      <td>Adam Hart</td>\n",
       "      <td>10</td>\n",
       "      <td>34</td>\n",
       "      <td>3249</td>\n",
       "      <td>2</td>\n",
       "      <td>1</td>\n",
       "      <td>2</td>\n",
       "      <td>212</td>\n",
       "      <td>Oversize</td>\n",
       "      <td>2</td>\n",
       "      <td>Once every week</td>\n",
       "    </tr>\n",
       "  </tbody>\n",
       "</table>\n",
       "</div>"
      ],
      "text/plain": [
       "          customer  frequency  recency  monetary_value  R_Quartile  \\\n",
       "0    Aaron Bergman          3      415             887           4   \n",
       "1    Aaron Hawkins          7       12            1744           1   \n",
       "2   Aaron Smayling          7       88            3050           3   \n",
       "3  Adam Bellavance          8       54            7756           2   \n",
       "4        Adam Hart         10       34            3249           2   \n",
       "\n",
       "   F_Quartile  M_Quartile  RFMClass product_interest  update_frequency  \\\n",
       "0           4           4       444          Joggers                 5   \n",
       "1           2           3       123            Jeans                 1   \n",
       "2           2           2       322          Formals                 3   \n",
       "3           2           1       221             Hats                 1   \n",
       "4           1           2       212         Oversize                 2   \n",
       "\n",
       "   promotion_frequency  \n",
       "0  Once every 2 months  \n",
       "1        Once everyday  \n",
       "2   Once every 2 weeks  \n",
       "3        Once everyday  \n",
       "4      Once every week  "
      ]
     },
     "execution_count": 9,
     "metadata": {},
     "output_type": "execute_result"
    }
   ],
   "source": [
    "import pandas as pd\n",
    "import numpy as np\n",
    "\n",
    "# Load the RFM table csv file\n",
    "rfm_table_path = 'rfm-table.csv'\n",
    "rfm_table = pd.read_csv(rfm_table_path, encoding='ISO-8859-1')\n",
    "\n",
    "# Define the product categories\n",
    "product_categories = ['Hoodies', 'Shirt', 'Tracksuits', 'Jeans', 'Oversize', 'Polo', \n",
    "                      'Joggers', 'Hats', 'Trendy Sections', 'Shoes', 'Formals']\n",
    "\n",
    "# Assign a random product category to each customer\n",
    "np.random.seed(42)  # For reproducibility\n",
    "rfm_table['product_interest'] = np.random.choice(product_categories, size=len(rfm_table))\n",
    "\n",
    "# Define the promotion frequency options\n",
    "promotion_frequency_options = [\n",
    "    'Once everyday', 'Once every 2 days', 'Once every 3 days',\n",
    "    'Once every week', 'Once every 2 weeks', 'Once every month', 'Once every 2 months'\n",
    "]\n",
    "\n",
    "# Define the update frequency ranking\n",
    "def rank_update_frequency(row):\n",
    "    # Generate a rank based on RFM class\n",
    "    # Higher RFM scores (worst) get higher update frequency numbers (less frequent updates)\n",
    "    if row['RFMClass'] == 444:\n",
    "        return 5  # Worst RFM rank\n",
    "    elif row['R_Quartile'] == 1 or row['M_Quartile'] == 1:\n",
    "        return 1  # Best RFM rank\n",
    "    elif row['F_Quartile'] == 1:\n",
    "        return 2\n",
    "    else:\n",
    "        return 3\n",
    "\n",
    "# Apply the ranking function to each row\n",
    "rfm_table['update_frequency'] = rfm_table.apply(rank_update_frequency, axis=1)\n",
    "\n",
    "# Define promotion frequency based on RFM scores\n",
    "def set_promotion_frequency(row):\n",
    "    if row['RFMClass'] == 444:\n",
    "        return promotion_frequency_options[6]  # Once every 2 months\n",
    "    elif row['R_Quartile'] == 1 or row['M_Quartile'] == 1:\n",
    "        return promotion_frequency_options[0]  # Once everyday\n",
    "    elif row['F_Quartile'] == 1:\n",
    "        return promotion_frequency_options[3]  # Once every week\n",
    "    else:\n",
    "        return promotion_frequency_options[4]  # Once every 2 weeks\n",
    "\n",
    "# Apply the function to each row\n",
    "rfm_table['promotion_frequency'] = rfm_table.apply(set_promotion_frequency, axis=1)\n",
    "\n",
    "# Save the updated DataFrame to a new CSV file\n",
    "updated_rfm_table_path = 'updated_rfm_table.csv'\n",
    "rfm_table.to_csv(updated_rfm_table_path, index=False)\n",
    "\n",
    "# Display the first few rows of the updated RFM table\n",
    "rfm_table.head()\n"
   ]
  },
  {
   "cell_type": "code",
   "execution_count": 11,
   "metadata": {},
   "outputs": [
    {
     "data": {
      "text/html": [
       "<div>\n",
       "<style scoped>\n",
       "    .dataframe tbody tr th:only-of-type {\n",
       "        vertical-align: middle;\n",
       "    }\n",
       "\n",
       "    .dataframe tbody tr th {\n",
       "        vertical-align: top;\n",
       "    }\n",
       "\n",
       "    .dataframe thead th {\n",
       "        text-align: right;\n",
       "    }\n",
       "</style>\n",
       "<table border=\"1\" class=\"dataframe\">\n",
       "  <thead>\n",
       "    <tr style=\"text-align: right;\">\n",
       "      <th></th>\n",
       "      <th>customer</th>\n",
       "      <th>frequency</th>\n",
       "      <th>recency</th>\n",
       "      <th>monetary_value</th>\n",
       "      <th>R_Quartile</th>\n",
       "      <th>F_Quartile</th>\n",
       "      <th>M_Quartile</th>\n",
       "      <th>RFMClass</th>\n",
       "      <th>product_interest</th>\n",
       "      <th>update_frequency</th>\n",
       "      <th>promotion_frequency</th>\n",
       "    </tr>\n",
       "  </thead>\n",
       "  <tbody>\n",
       "    <tr>\n",
       "      <th>0</th>\n",
       "      <td>Aaron Bergman</td>\n",
       "      <td>3</td>\n",
       "      <td>415</td>\n",
       "      <td>887</td>\n",
       "      <td>4</td>\n",
       "      <td>4</td>\n",
       "      <td>4</td>\n",
       "      <td>444</td>\n",
       "      <td>Formals</td>\n",
       "      <td>5</td>\n",
       "      <td>Once every 2 months</td>\n",
       "    </tr>\n",
       "    <tr>\n",
       "      <th>1</th>\n",
       "      <td>Aaron Hawkins</td>\n",
       "      <td>7</td>\n",
       "      <td>12</td>\n",
       "      <td>1744</td>\n",
       "      <td>1</td>\n",
       "      <td>2</td>\n",
       "      <td>3</td>\n",
       "      <td>123</td>\n",
       "      <td>Formals, Shoes</td>\n",
       "      <td>1</td>\n",
       "      <td>Once everyday</td>\n",
       "    </tr>\n",
       "    <tr>\n",
       "      <th>2</th>\n",
       "      <td>Aaron Smayling</td>\n",
       "      <td>7</td>\n",
       "      <td>88</td>\n",
       "      <td>3050</td>\n",
       "      <td>3</td>\n",
       "      <td>2</td>\n",
       "      <td>2</td>\n",
       "      <td>322</td>\n",
       "      <td>Hats, Oversize</td>\n",
       "      <td>3</td>\n",
       "      <td>Once every 2 weeks</td>\n",
       "    </tr>\n",
       "    <tr>\n",
       "      <th>3</th>\n",
       "      <td>Adam Bellavance</td>\n",
       "      <td>8</td>\n",
       "      <td>54</td>\n",
       "      <td>7756</td>\n",
       "      <td>2</td>\n",
       "      <td>2</td>\n",
       "      <td>1</td>\n",
       "      <td>221</td>\n",
       "      <td>Shirt, Shoes</td>\n",
       "      <td>1</td>\n",
       "      <td>Once everyday</td>\n",
       "    </tr>\n",
       "    <tr>\n",
       "      <th>4</th>\n",
       "      <td>Adam Hart</td>\n",
       "      <td>10</td>\n",
       "      <td>34</td>\n",
       "      <td>3249</td>\n",
       "      <td>2</td>\n",
       "      <td>1</td>\n",
       "      <td>2</td>\n",
       "      <td>212</td>\n",
       "      <td>Tracksuits</td>\n",
       "      <td>2</td>\n",
       "      <td>Once every week</td>\n",
       "    </tr>\n",
       "  </tbody>\n",
       "</table>\n",
       "</div>"
      ],
      "text/plain": [
       "          customer  frequency  recency  monetary_value  R_Quartile  \\\n",
       "0    Aaron Bergman          3      415             887           4   \n",
       "1    Aaron Hawkins          7       12            1744           1   \n",
       "2   Aaron Smayling          7       88            3050           3   \n",
       "3  Adam Bellavance          8       54            7756           2   \n",
       "4        Adam Hart         10       34            3249           2   \n",
       "\n",
       "   F_Quartile  M_Quartile  RFMClass product_interest  update_frequency  \\\n",
       "0           4           4       444          Formals                 5   \n",
       "1           2           3       123   Formals, Shoes                 1   \n",
       "2           2           2       322   Hats, Oversize                 3   \n",
       "3           2           1       221     Shirt, Shoes                 1   \n",
       "4           1           2       212       Tracksuits                 2   \n",
       "\n",
       "   promotion_frequency  \n",
       "0  Once every 2 months  \n",
       "1        Once everyday  \n",
       "2   Once every 2 weeks  \n",
       "3        Once everyday  \n",
       "4      Once every week  "
      ]
     },
     "execution_count": 11,
     "metadata": {},
     "output_type": "execute_result"
    }
   ],
   "source": [
    "import pandas as pd\n",
    "import numpy as np\n",
    "\n",
    "# Load the RFM table csv file\n",
    "rfm_table_path = 'rfm-table.csv'\n",
    "rfm_table = pd.read_csv(rfm_table_path, encoding='ISO-8859-1')\n",
    "\n",
    "# Define the product categories\n",
    "product_categories = ['Hoodies', 'Shirt', 'Tracksuits', 'Jeans', 'Oversize', 'Polo', \n",
    "                      'Joggers', 'Hats', 'Trendy Sections', 'Shoes', 'Formals']\n",
    "\n",
    "# Assign one or two random product categories to each customer\n",
    "np.random.seed(42)  # For reproducibility\n",
    "def assign_product_interests():\n",
    "    num_interests = np.random.choice([1, 2])\n",
    "    return ', '.join(np.random.choice(product_categories, num_interests, replace=False))\n",
    "\n",
    "rfm_table['product_interest'] = [assign_product_interests() for _ in range(len(rfm_table))]\n",
    "\n",
    "# Define the promotion frequency options\n",
    "promotion_frequency_options = [\n",
    "    'Once everyday', 'Once every 2 days', 'Once every 3 days',\n",
    "    'Once every week', 'Once every 2 weeks', 'Once every month', 'Once every 2 months'\n",
    "]\n",
    "\n",
    "# Define the update frequency ranking\n",
    "def rank_update_frequency(row):\n",
    "    # Generate a rank based on RFM class\n",
    "    # Higher RFM scores (worst) get higher update frequency numbers (less frequent updates)\n",
    "    if row['RFMClass'] == 444:\n",
    "        return 5  # Worst RFM rank\n",
    "    elif row['R_Quartile'] == 1 or row['M_Quartile'] == 1:\n",
    "        return 1  # Best RFM rank\n",
    "    elif row['F_Quartile'] == 1:\n",
    "        return 2\n",
    "    else:\n",
    "        return 3\n",
    "\n",
    "# Apply the ranking function to each row\n",
    "rfm_table['update_frequency'] = rfm_table.apply(rank_update_frequency, axis=1)\n",
    "\n",
    "# Define promotion frequency based on RFM scores\n",
    "def set_promotion_frequency(row):\n",
    "    if row['RFMClass'] == 444:\n",
    "        return promotion_frequency_options[6]  # Once every 2 months\n",
    "    elif row['R_Quartile'] == 1 or row['M_Quartile'] == 1:\n",
    "        return promotion_frequency_options[0]  # Once everyday\n",
    "    elif row['F_Quartile'] == 1:\n",
    "        return promotion_frequency_options[3]  # Once every week\n",
    "    else:\n",
    "        return promotion_frequency_options[4]  # Once every 2 weeks\n",
    "\n",
    "# Apply the function to each row\n",
    "rfm_table['promotion_frequency'] = rfm_table.apply(set_promotion_frequency, axis=1)\n",
    "\n",
    "# Save the updated DataFrame to a new CSV file\n",
    "updated_rfm_table_path = 'updated_rfm_table.csv'\n",
    "rfm_table.to_csv(updated_rfm_table_path, index=False)\n",
    "\n",
    "# Display the first few rows of the updated RFM table\n",
    "rfm_table.head()\n"
   ]
  },
  {
   "cell_type": "code",
   "execution_count": 11,
   "metadata": {},
   "outputs": [
    {
     "name": "stdin",
     "output_type": "stream",
     "text": [
      "Enter the customer's name to search:  Adam Hart\n"
     ]
    },
    {
     "name": "stdout",
     "output_type": "stream",
     "text": [
      "Customer records found:\n",
      "    customer  frequency  recency  monetary_value  R_Quartile  F_Quartile  \\\n",
      "4  Adam Hart         10       34            3249           2           1   \n",
      "\n",
      "   M_Quartile  RFMClass product_interest  update_frequency promotion_frequency  \n",
      "4           2       212       Tracksuits                 2     Once every week  \n"
     ]
    }
   ],
   "source": [
    "import pandas as pd\n",
    "\n",
    "# Load the updated RFM table csv file\n",
    "updated_rfm_table_path = 'updated_rfm_table.csv'\n",
    "rfm_table = pd.read_csv(updated_rfm_table_path, encoding='ISO-8859-1')\n",
    "\n",
    "# Function to search for a customer's records by name\n",
    "def search_customer_records(customer_name):\n",
    "    # Search for records matching the customer's name\n",
    "    customer_records = rfm_table[rfm_table['customer'].str.contains(customer_name, case=False, na=False)]\n",
    "    return customer_records\n",
    "\n",
    "# Get user input for the customer's name\n",
    "customer_name = input(\"Enter the customer's name to search: \")\n",
    "\n",
    "# Search for and display the customer's records\n",
    "customer_records = search_customer_records(customer_name)\n",
    "if not customer_records.empty:\n",
    "    print(\"Customer records found:\")\n",
    "    print(customer_records)\n",
    "else:\n",
    "    print(\"No records found for the customer name provided.\")\n",
    "\n"
   ]
  },
  {
   "cell_type": "code",
   "execution_count": null,
   "metadata": {},
   "outputs": [],
   "source": []
  },
  {
   "cell_type": "code",
   "execution_count": null,
   "metadata": {},
   "outputs": [],
   "source": []
  }
 ],
 "metadata": {
  "kernelspec": {
   "display_name": "Python 3 (ipykernel)",
   "language": "python",
   "name": "python3"
  },
  "language_info": {
   "codemirror_mode": {
    "name": "ipython",
    "version": 3
   },
   "file_extension": ".py",
   "mimetype": "text/x-python",
   "name": "python",
   "nbconvert_exporter": "python",
   "pygments_lexer": "ipython3",
   "version": "3.11.7"
  }
 },
 "nbformat": 4,
 "nbformat_minor": 4
}
