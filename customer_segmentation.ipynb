{
 "cells": [
  {
   "cell_type": "markdown",
   "metadata": {
    "papermill": {
     "duration": 0.026631,
     "end_time": "2020-11-15T17:44:53.886438",
     "exception": false,
     "start_time": "2020-11-15T17:44:53.859807",
     "status": "completed"
    },
    "tags": []
   },
   "source": [
    "## Introduction: \n",
    "\n",
    "Market segmentation is a process of dividing a heterogeneous market into relatively more homogenous segments based on certain parameters like geographic, demographic, psychographic, and behavioural. It is the activity of dividing a broad consumer or business market, normally consisting of existing and potential customers, into sub-groups of consumers (known as segments) based on some type of shared characteristics.\n",
    "\n",
    "In dividing or segmenting markets, researchers typically look for common characteristics such as shared needs, common interests, similar lifestyles, or even similar demographic profiles. The overall aim of segmentation is to identify high yield segments – that is, those segments that are likely to be the most profitable or that have growth potential – so that these can be selected for special attention (i.e. become target markets). Many different ways to segment a market have been identified. Business-to-business (B2B) sellers might segment the market into different types of businesses or countries. While business-to-consumer (B2C) sellers might segment the market into demographic segments, lifestyle segments, behavioural segments, or any other meaningful segment.\n",
    "\n",
    "Market segmentation assumes that different market segments require different marketing programs – that is, different offers, prices, promotion, distribution, or some combination of marketing variables. Market segmentation is not only designed to identify the most profitable segments, but also to develop profiles of key segments in order to better understand their needs and purchase motivations. Insights from segmentation analysis are subsequently used to support marketing strategy development and planning. Many marketers use the S-T-P approach; Segmentation → Targeting → Positioning to provide the framework for marketing planning objectives. That is, a market is segmented, one or more segments are selected for targeting, and products or services are positioned in a way that resonates with the selected target market or markets.\n",
    "\n",
    "In this notebook it is aimed to make segmentation according to the customer information in the dataset. "
   ]
  },
  {
   "cell_type": "markdown",
   "metadata": {
    "papermill": {
     "duration": 0.024781,
     "end_time": "2020-11-15T17:44:53.936726",
     "exception": false,
     "start_time": "2020-11-15T17:44:53.911945",
     "status": "completed"
    },
    "tags": []
   },
   "source": [
    "## Content:\n",
    "\n",
    "- <a href='#1.'> 1. Importing Libraries</a>\n",
    "- <a href='#2.'> 2. Loading and Checking Data</a>\n",
    "- <a href='#3.'> 3. Variable Description</a>\n",
    "- <a href='#4.'> 4. Data Analysis</a>\n",
    "- <a href='#5.'> 5. Preprocessing</a>\n",
    "- <a href='#6.'> 6. Modelling</a>"
   ]
  },
  {
   "cell_type": "markdown",
   "metadata": {
    "papermill": {
     "duration": 0.025311,
     "end_time": "2020-11-15T17:44:53.988025",
     "exception": false,
     "start_time": "2020-11-15T17:44:53.962714",
     "status": "completed"
    },
    "tags": []
   },
   "source": [
    "## <a id='1.'> 1. Importing Libraries</a> "
   ]
  },
  {
   "cell_type": "code",
   "execution_count": 1,
   "metadata": {
    "_cell_guid": "b1076dfc-b9ad-4769-8c92-a6c4dae69d19",
    "_uuid": "8f2839f25d086af736a60e9eeb907d3b93b6e0e5",
    "execution": {
     "iopub.execute_input": "2020-11-15T17:44:54.045874Z",
     "iopub.status.busy": "2020-11-15T17:44:54.045054Z",
     "iopub.status.idle": "2020-11-15T17:44:55.083480Z",
     "shell.execute_reply": "2020-11-15T17:44:55.082798Z"
    },
    "papermill": {
     "duration": 1.070009,
     "end_time": "2020-11-15T17:44:55.083633",
     "exception": false,
     "start_time": "2020-11-15T17:44:54.013624",
     "status": "completed"
    },
    "tags": []
   },
   "outputs": [],
   "source": [
    "import numpy as np \n",
    "import pandas as pd\n",
    "import matplotlib.pyplot as plt\n",
    "import seaborn as sns"
   ]
  },
  {
   "cell_type": "markdown",
   "metadata": {
    "papermill": {
     "duration": 0.026312,
     "end_time": "2020-11-15T17:44:55.136407",
     "exception": false,
     "start_time": "2020-11-15T17:44:55.110095",
     "status": "completed"
    },
    "tags": []
   },
   "source": [
    "## <a id='2.'> 2. Loading and Checking Data</a> "
   ]
  },
  {
   "cell_type": "code",
   "execution_count": 2,
   "metadata": {
    "_cell_guid": "79c7e3d0-c299-4dcb-8224-4455121ee9b0",
    "_uuid": "d629ff2d2480ee46fbb7e2d37f6b5fab8052498a",
    "execution": {
     "iopub.execute_input": "2020-11-15T17:44:55.199131Z",
     "iopub.status.busy": "2020-11-15T17:44:55.198186Z",
     "iopub.status.idle": "2020-11-15T17:44:55.228882Z",
     "shell.execute_reply": "2020-11-15T17:44:55.228088Z"
    },
    "papermill": {
     "duration": 0.066118,
     "end_time": "2020-11-15T17:44:55.229031",
     "exception": false,
     "start_time": "2020-11-15T17:44:55.162913",
     "status": "completed"
    },
    "tags": []
   },
   "outputs": [
    {
     "data": {
      "text/html": [
       "<div>\n",
       "<style scoped>\n",
       "    .dataframe tbody tr th:only-of-type {\n",
       "        vertical-align: middle;\n",
       "    }\n",
       "\n",
       "    .dataframe tbody tr th {\n",
       "        vertical-align: top;\n",
       "    }\n",
       "\n",
       "    .dataframe thead th {\n",
       "        text-align: right;\n",
       "    }\n",
       "</style>\n",
       "<table border=\"1\" class=\"dataframe\">\n",
       "  <thead>\n",
       "    <tr style=\"text-align: right;\">\n",
       "      <th></th>\n",
       "      <th>CustomerID</th>\n",
       "      <th>Gender</th>\n",
       "      <th>Age</th>\n",
       "      <th>Annual Income (k$)</th>\n",
       "      <th>Spending Score (1-100)</th>\n",
       "    </tr>\n",
       "  </thead>\n",
       "  <tbody>\n",
       "    <tr>\n",
       "      <th>0</th>\n",
       "      <td>1</td>\n",
       "      <td>Male</td>\n",
       "      <td>19</td>\n",
       "      <td>15</td>\n",
       "      <td>39</td>\n",
       "    </tr>\n",
       "    <tr>\n",
       "      <th>1</th>\n",
       "      <td>2</td>\n",
       "      <td>Male</td>\n",
       "      <td>21</td>\n",
       "      <td>15</td>\n",
       "      <td>81</td>\n",
       "    </tr>\n",
       "    <tr>\n",
       "      <th>2</th>\n",
       "      <td>3</td>\n",
       "      <td>Female</td>\n",
       "      <td>20</td>\n",
       "      <td>16</td>\n",
       "      <td>6</td>\n",
       "    </tr>\n",
       "    <tr>\n",
       "      <th>3</th>\n",
       "      <td>4</td>\n",
       "      <td>Female</td>\n",
       "      <td>23</td>\n",
       "      <td>16</td>\n",
       "      <td>77</td>\n",
       "    </tr>\n",
       "    <tr>\n",
       "      <th>4</th>\n",
       "      <td>5</td>\n",
       "      <td>Female</td>\n",
       "      <td>31</td>\n",
       "      <td>17</td>\n",
       "      <td>40</td>\n",
       "    </tr>\n",
       "  </tbody>\n",
       "</table>\n",
       "</div>"
      ],
      "text/plain": [
       "   CustomerID  Gender  Age  Annual Income (k$)  Spending Score (1-100)\n",
       "0           1    Male   19                  15                      39\n",
       "1           2    Male   21                  15                      81\n",
       "2           3  Female   20                  16                       6\n",
       "3           4  Female   23                  16                      77\n",
       "4           5  Female   31                  17                      40"
      ]
     },
     "execution_count": 2,
     "metadata": {},
     "output_type": "execute_result"
    }
   ],
   "source": [
    "# Loading data\n",
    "raw_data = pd.read_csv(\"../input/customer-segmentation-tutorial-in-python/Mall_Customers.csv\")\n",
    "raw_data.head()"
   ]
  },
  {
   "cell_type": "code",
   "execution_count": 3,
   "metadata": {
    "execution": {
     "iopub.execute_input": "2020-11-15T17:44:55.288779Z",
     "iopub.status.busy": "2020-11-15T17:44:55.287872Z",
     "iopub.status.idle": "2020-11-15T17:44:55.292397Z",
     "shell.execute_reply": "2020-11-15T17:44:55.291677Z"
    },
    "papermill": {
     "duration": 0.036723,
     "end_time": "2020-11-15T17:44:55.292533",
     "exception": false,
     "start_time": "2020-11-15T17:44:55.255810",
     "status": "completed"
    },
    "tags": []
   },
   "outputs": [
    {
     "data": {
      "text/plain": [
       "(200, 5)"
      ]
     },
     "execution_count": 3,
     "metadata": {},
     "output_type": "execute_result"
    }
   ],
   "source": [
    "# Checking the shape of dataset\n",
    "raw_data.shape"
   ]
  },
  {
   "cell_type": "code",
   "execution_count": 4,
   "metadata": {
    "execution": {
     "iopub.execute_input": "2020-11-15T17:44:55.361773Z",
     "iopub.status.busy": "2020-11-15T17:44:55.360778Z",
     "iopub.status.idle": "2020-11-15T17:44:55.365742Z",
     "shell.execute_reply": "2020-11-15T17:44:55.364992Z"
    },
    "papermill": {
     "duration": 0.046472,
     "end_time": "2020-11-15T17:44:55.365881",
     "exception": false,
     "start_time": "2020-11-15T17:44:55.319409",
     "status": "completed"
    },
    "tags": []
   },
   "outputs": [
    {
     "name": "stdout",
     "output_type": "stream",
     "text": [
      "<class 'pandas.core.frame.DataFrame'>\n",
      "RangeIndex: 200 entries, 0 to 199\n",
      "Data columns (total 5 columns):\n",
      " #   Column                  Non-Null Count  Dtype \n",
      "---  ------                  --------------  ----- \n",
      " 0   CustomerID              200 non-null    int64 \n",
      " 1   Gender                  200 non-null    object\n",
      " 2   Age                     200 non-null    int64 \n",
      " 3   Annual Income (k$)      200 non-null    int64 \n",
      " 4   Spending Score (1-100)  200 non-null    int64 \n",
      "dtypes: int64(4), object(1)\n",
      "memory usage: 7.9+ KB\n"
     ]
    }
   ],
   "source": [
    "# Checking info\n",
    "raw_data.info()"
   ]
  },
  {
   "cell_type": "code",
   "execution_count": 5,
   "metadata": {
    "execution": {
     "iopub.execute_input": "2020-11-15T17:44:55.430745Z",
     "iopub.status.busy": "2020-11-15T17:44:55.429921Z",
     "iopub.status.idle": "2020-11-15T17:44:55.452665Z",
     "shell.execute_reply": "2020-11-15T17:44:55.453287Z"
    },
    "papermill": {
     "duration": 0.060068,
     "end_time": "2020-11-15T17:44:55.453475",
     "exception": false,
     "start_time": "2020-11-15T17:44:55.393407",
     "status": "completed"
    },
    "tags": []
   },
   "outputs": [
    {
     "data": {
      "text/html": [
       "<div>\n",
       "<style scoped>\n",
       "    .dataframe tbody tr th:only-of-type {\n",
       "        vertical-align: middle;\n",
       "    }\n",
       "\n",
       "    .dataframe tbody tr th {\n",
       "        vertical-align: top;\n",
       "    }\n",
       "\n",
       "    .dataframe thead th {\n",
       "        text-align: right;\n",
       "    }\n",
       "</style>\n",
       "<table border=\"1\" class=\"dataframe\">\n",
       "  <thead>\n",
       "    <tr style=\"text-align: right;\">\n",
       "      <th></th>\n",
       "      <th>CustomerID</th>\n",
       "      <th>Age</th>\n",
       "      <th>Annual Income (k$)</th>\n",
       "      <th>Spending Score (1-100)</th>\n",
       "    </tr>\n",
       "  </thead>\n",
       "  <tbody>\n",
       "    <tr>\n",
       "      <th>count</th>\n",
       "      <td>200.000000</td>\n",
       "      <td>200.000000</td>\n",
       "      <td>200.000000</td>\n",
       "      <td>200.000000</td>\n",
       "    </tr>\n",
       "    <tr>\n",
       "      <th>mean</th>\n",
       "      <td>100.500000</td>\n",
       "      <td>38.850000</td>\n",
       "      <td>60.560000</td>\n",
       "      <td>50.200000</td>\n",
       "    </tr>\n",
       "    <tr>\n",
       "      <th>std</th>\n",
       "      <td>57.879185</td>\n",
       "      <td>13.969007</td>\n",
       "      <td>26.264721</td>\n",
       "      <td>25.823522</td>\n",
       "    </tr>\n",
       "    <tr>\n",
       "      <th>min</th>\n",
       "      <td>1.000000</td>\n",
       "      <td>18.000000</td>\n",
       "      <td>15.000000</td>\n",
       "      <td>1.000000</td>\n",
       "    </tr>\n",
       "    <tr>\n",
       "      <th>25%</th>\n",
       "      <td>50.750000</td>\n",
       "      <td>28.750000</td>\n",
       "      <td>41.500000</td>\n",
       "      <td>34.750000</td>\n",
       "    </tr>\n",
       "    <tr>\n",
       "      <th>50%</th>\n",
       "      <td>100.500000</td>\n",
       "      <td>36.000000</td>\n",
       "      <td>61.500000</td>\n",
       "      <td>50.000000</td>\n",
       "    </tr>\n",
       "    <tr>\n",
       "      <th>75%</th>\n",
       "      <td>150.250000</td>\n",
       "      <td>49.000000</td>\n",
       "      <td>78.000000</td>\n",
       "      <td>73.000000</td>\n",
       "    </tr>\n",
       "    <tr>\n",
       "      <th>max</th>\n",
       "      <td>200.000000</td>\n",
       "      <td>70.000000</td>\n",
       "      <td>137.000000</td>\n",
       "      <td>99.000000</td>\n",
       "    </tr>\n",
       "  </tbody>\n",
       "</table>\n",
       "</div>"
      ],
      "text/plain": [
       "       CustomerID         Age  Annual Income (k$)  Spending Score (1-100)\n",
       "count  200.000000  200.000000          200.000000              200.000000\n",
       "mean   100.500000   38.850000           60.560000               50.200000\n",
       "std     57.879185   13.969007           26.264721               25.823522\n",
       "min      1.000000   18.000000           15.000000                1.000000\n",
       "25%     50.750000   28.750000           41.500000               34.750000\n",
       "50%    100.500000   36.000000           61.500000               50.000000\n",
       "75%    150.250000   49.000000           78.000000               73.000000\n",
       "max    200.000000   70.000000          137.000000               99.000000"
      ]
     },
     "execution_count": 5,
     "metadata": {},
     "output_type": "execute_result"
    }
   ],
   "source": [
    "# Checking the statistical summary of dataset\n",
    "raw_data.describe()"
   ]
  },
  {
   "cell_type": "markdown",
   "metadata": {
    "papermill": {
     "duration": 0.028723,
     "end_time": "2020-11-15T17:44:55.515362",
     "exception": false,
     "start_time": "2020-11-15T17:44:55.486639",
     "status": "completed"
    },
    "tags": []
   },
   "source": [
    "## <a id='3.'> 3. Variable Description</a> "
   ]
  },
  {
   "cell_type": "markdown",
   "metadata": {
    "papermill": {
     "duration": 0.028809,
     "end_time": "2020-11-15T17:44:55.573666",
     "exception": false,
     "start_time": "2020-11-15T17:44:55.544857",
     "status": "completed"
    },
    "tags": []
   },
   "source": [
    "There are 5 independent variables.\n",
    "* CustomerID: ID number of the customers (categorical) \n",
    "* Gender: Gender of the customer (categorical)              \n",
    "* Age: Age of the customer (numerical)                    \n",
    "* Annual Income(k$): Annual income of the customer (numerical)  \n",
    "* Spending Score(1-100): Spending score of the customers (numerical)\n",
    "\n",
    "dtypes: int64(4), object(1)"
   ]
  },
  {
   "cell_type": "markdown",
   "metadata": {
    "papermill": {
     "duration": 0.028751,
     "end_time": "2020-11-15T17:44:55.631550",
     "exception": false,
     "start_time": "2020-11-15T17:44:55.602799",
     "status": "completed"
    },
    "tags": []
   },
   "source": [
    "## <a id='4.'> 4. Data Analysis</a>"
   ]
  },
  {
   "cell_type": "code",
   "execution_count": 6,
   "metadata": {
    "execution": {
     "iopub.execute_input": "2020-11-15T17:44:55.700165Z",
     "iopub.status.busy": "2020-11-15T17:44:55.699241Z",
     "iopub.status.idle": "2020-11-15T17:44:55.823597Z",
     "shell.execute_reply": "2020-11-15T17:44:55.822929Z"
    },
    "papermill": {
     "duration": 0.163683,
     "end_time": "2020-11-15T17:44:55.823752",
     "exception": false,
     "start_time": "2020-11-15T17:44:55.660069",
     "status": "completed"
    },
    "tags": []
   },
   "outputs": [
    {
     "data": {
      "image/png": "[encoded data removed]",
      "text/plain": [
       "<Figure size 720x576 with 1 Axes>"
      ]
     },
     "metadata": {},
     "output_type": "display_data"
    }
   ],
   "source": [
    "# Checking gender proportion\n",
    "labels = 'Male', 'Female'\n",
    "sizes = [raw_data.Gender[raw_data['Gender']==\"Male\"].count(), raw_data.Gender[raw_data['Gender']==\"Female\"].count()]\n",
    "explode = (0, 0.1)\n",
    "fig1, ax1 = plt.subplots(figsize=(10, 8))\n",
    "ax1.pie(sizes, explode=explode, labels=labels, autopct='%1.1f%%', startangle=90)\n",
    "ax1.axis('equal')\n",
    "plt.title(\"Proportion of Gender Types\", size = 20)\n",
    "plt.show()"
   ]
  },
  {
   "cell_type": "code",
   "execution_count": 7,
   "metadata": {
    "execution": {
     "iopub.execute_input": "2020-11-15T17:44:55.898114Z",
     "iopub.status.busy": "2020-11-15T17:44:55.897174Z",
     "iopub.status.idle": "2020-11-15T17:44:56.523235Z",
     "shell.execute_reply": "2020-11-15T17:44:56.522477Z"
    },
    "papermill": {
     "duration": 0.669771,
     "end_time": "2020-11-15T17:44:56.523370",
     "exception": false,
     "start_time": "2020-11-15T17:44:55.853599",
     "status": "completed"
    },
    "tags": []
   },
   "outputs": [
    {
     "data": {
      "image/png": "[encoded data removed]",
      "text/plain": [
       "<Figure size 1080x432 with 1 Axes>"
      ]
     },
     "metadata": {
      "needs_background": "light"
     },
     "output_type": "display_data"
    }
   ],
   "source": [
    "# Checking \"Age\" distribution\n",
    "plt.subplots(figsize=(15,6))\n",
    "sns.countplot('Age',data=raw_data, color=\"blue\")\n",
    "plt.xticks(rotation=90)\n",
    "plt.title('Age Distribution')\n",
    "plt.show()"
   ]
  },
  {
   "cell_type": "code",
   "execution_count": 8,
   "metadata": {
    "execution": {
     "iopub.execute_input": "2020-11-15T17:44:56.594051Z",
     "iopub.status.busy": "2020-11-15T17:44:56.592863Z",
     "iopub.status.idle": "2020-11-15T17:44:57.361434Z",
     "shell.execute_reply": "2020-11-15T17:44:57.360675Z"
    },
    "papermill": {
     "duration": 0.807177,
     "end_time": "2020-11-15T17:44:57.361582",
     "exception": false,
     "start_time": "2020-11-15T17:44:56.554405",
     "status": "completed"
    },
    "tags": []
   },
   "outputs": [
    {
     "data": {
      "image/png": "[encoded data removed]",
      "text/plain": [
       "<Figure size 1080x432 with 1 Axes>"
      ]
     },
     "metadata": {
      "needs_background": "light"
     },
     "output_type": "display_data"
    }
   ],
   "source": [
    "# Checking \"Annual Income\" distribution\n",
    "plt.subplots(figsize=(15,6))\n",
    "sns.countplot('Annual Income (k$)',data=raw_data, color=\"blue\")\n",
    "plt.xticks(rotation=90)\n",
    "plt.title('Annual Income (k$) Distribution')\n",
    "plt.show()"
   ]
  },
  {
   "cell_type": "code",
   "execution_count": 9,
   "metadata": {
    "execution": {
     "iopub.execute_input": "2020-11-15T17:44:57.439420Z",
     "iopub.status.busy": "2020-11-15T17:44:57.434253Z",
     "iopub.status.idle": "2020-11-15T17:44:58.549226Z",
     "shell.execute_reply": "2020-11-15T17:44:58.549889Z"
    },
    "papermill": {
     "duration": 1.155981,
     "end_time": "2020-11-15T17:44:58.550084",
     "exception": false,
     "start_time": "2020-11-15T17:44:57.394103",
     "status": "completed"
    },
    "tags": []
   },
   "outputs": [
    {
     "data": {
      "image/png": "[encoded data removed]",
      "text/plain": [
       "<Figure size 1080x432 with 1 Axes>"
      ]
     },
     "metadata": {
      "needs_background": "light"
     },
     "output_type": "display_data"
    }
   ],
   "source": [
    "# Checking \"Spending Score\" distribution\n",
    "plt.subplots(figsize=(15,6))\n",
    "sns.countplot('Spending Score (1-100)',data=raw_data, color=\"blue\")\n",
    "plt.xticks(rotation=90)\n",
    "plt.title('Spending Score Distribution')\n",
    "plt.show()"
   ]
  },
  {
   "cell_type": "code",
   "execution_count": 10,
   "metadata": {
    "execution": {
     "iopub.execute_input": "2020-11-15T17:44:58.636222Z",
     "iopub.status.busy": "2020-11-15T17:44:58.635383Z",
     "iopub.status.idle": "2020-11-15T17:44:58.877679Z",
     "shell.execute_reply": "2020-11-15T17:44:58.878250Z"
    },
    "papermill": {
     "duration": 0.29473,
     "end_time": "2020-11-15T17:44:58.878450",
     "exception": false,
     "start_time": "2020-11-15T17:44:58.583720",
     "status": "completed"
    },
    "tags": []
   },
   "outputs": [
    {
     "data": {
      "image/png": "[encoded data removed]",
      "text/plain": [
       "<Figure size 432x288 with 2 Axes>"
      ]
     },
     "metadata": {
      "needs_background": "light"
     },
     "output_type": "display_data"
    }
   ],
   "source": [
    "# Checking correlation between variables\n",
    "list1 =[\"Age\", \"Annual Income (k$)\", \"Spending Score (1-100)\"]\n",
    "sns.heatmap(raw_data[list1].corr(), annot = True, fmt = \".2f\", cmap=\"Blues\")\n",
    "plt.show()"
   ]
  },
  {
   "cell_type": "markdown",
   "metadata": {
    "papermill": {
     "duration": 0.033702,
     "end_time": "2020-11-15T17:44:58.946539",
     "exception": false,
     "start_time": "2020-11-15T17:44:58.912837",
     "status": "completed"
    },
    "tags": []
   },
   "source": [
    "## <a id='5.'> 5. Preprocessing</a>"
   ]
  },
  {
   "cell_type": "code",
   "execution_count": 11,
   "metadata": {
    "execution": {
     "iopub.execute_input": "2020-11-15T17:44:59.030568Z",
     "iopub.status.busy": "2020-11-15T17:44:59.029550Z",
     "iopub.status.idle": "2020-11-15T17:44:59.034359Z",
     "shell.execute_reply": "2020-11-15T17:44:59.033669Z"
    },
    "papermill": {
     "duration": 0.052563,
     "end_time": "2020-11-15T17:44:59.034500",
     "exception": false,
     "start_time": "2020-11-15T17:44:58.981937",
     "status": "completed"
    },
    "tags": []
   },
   "outputs": [
    {
     "data": {
      "text/html": [
       "<div>\n",
       "<style scoped>\n",
       "    .dataframe tbody tr th:only-of-type {\n",
       "        vertical-align: middle;\n",
       "    }\n",
       "\n",
       "    .dataframe tbody tr th {\n",
       "        vertical-align: top;\n",
       "    }\n",
       "\n",
       "    .dataframe thead th {\n",
       "        text-align: right;\n",
       "    }\n",
       "</style>\n",
       "<table border=\"1\" class=\"dataframe\">\n",
       "  <thead>\n",
       "    <tr style=\"text-align: right;\">\n",
       "      <th></th>\n",
       "      <th>CustomerID</th>\n",
       "      <th>Gender</th>\n",
       "      <th>Age</th>\n",
       "      <th>Annual Income (k$)</th>\n",
       "      <th>Spending Score (1-100)</th>\n",
       "    </tr>\n",
       "  </thead>\n",
       "  <tbody>\n",
       "    <tr>\n",
       "      <th>0</th>\n",
       "      <td>1</td>\n",
       "      <td>Male</td>\n",
       "      <td>19</td>\n",
       "      <td>15</td>\n",
       "      <td>39</td>\n",
       "    </tr>\n",
       "    <tr>\n",
       "      <th>1</th>\n",
       "      <td>2</td>\n",
       "      <td>Male</td>\n",
       "      <td>21</td>\n",
       "      <td>15</td>\n",
       "      <td>81</td>\n",
       "    </tr>\n",
       "    <tr>\n",
       "      <th>2</th>\n",
       "      <td>3</td>\n",
       "      <td>Female</td>\n",
       "      <td>20</td>\n",
       "      <td>16</td>\n",
       "      <td>6</td>\n",
       "    </tr>\n",
       "    <tr>\n",
       "      <th>3</th>\n",
       "      <td>4</td>\n",
       "      <td>Female</td>\n",
       "      <td>23</td>\n",
       "      <td>16</td>\n",
       "      <td>77</td>\n",
       "    </tr>\n",
       "    <tr>\n",
       "      <th>4</th>\n",
       "      <td>5</td>\n",
       "      <td>Female</td>\n",
       "      <td>31</td>\n",
       "      <td>17</td>\n",
       "      <td>40</td>\n",
       "    </tr>\n",
       "  </tbody>\n",
       "</table>\n",
       "</div>"
      ],
      "text/plain": [
       "   CustomerID  Gender  Age  Annual Income (k$)  Spending Score (1-100)\n",
       "0           1    Male   19                  15                      39\n",
       "1           2    Male   21                  15                      81\n",
       "2           3  Female   20                  16                       6\n",
       "3           4  Female   23                  16                      77\n",
       "4           5  Female   31                  17                      40"
      ]
     },
     "execution_count": 11,
     "metadata": {},
     "output_type": "execute_result"
    }
   ],
   "source": [
    "# Creating a checkpoint\n",
    "data = raw_data.copy()\n",
    "data.head()"
   ]
  },
  {
   "cell_type": "code",
   "execution_count": 12,
   "metadata": {
    "execution": {
     "iopub.execute_input": "2020-11-15T17:44:59.120628Z",
     "iopub.status.busy": "2020-11-15T17:44:59.119522Z",
     "iopub.status.idle": "2020-11-15T17:44:59.124714Z",
     "shell.execute_reply": "2020-11-15T17:44:59.124074Z"
    },
    "papermill": {
     "duration": 0.054818,
     "end_time": "2020-11-15T17:44:59.124859",
     "exception": false,
     "start_time": "2020-11-15T17:44:59.070041",
     "status": "completed"
    },
    "tags": []
   },
   "outputs": [
    {
     "data": {
      "text/html": [
       "<div>\n",
       "<style scoped>\n",
       "    .dataframe tbody tr th:only-of-type {\n",
       "        vertical-align: middle;\n",
       "    }\n",
       "\n",
       "    .dataframe tbody tr th {\n",
       "        vertical-align: top;\n",
       "    }\n",
       "\n",
       "    .dataframe thead th {\n",
       "        text-align: right;\n",
       "    }\n",
       "</style>\n",
       "<table border=\"1\" class=\"dataframe\">\n",
       "  <thead>\n",
       "    <tr style=\"text-align: right;\">\n",
       "      <th></th>\n",
       "      <th>Gender</th>\n",
       "      <th>Age</th>\n",
       "      <th>Annual Income (k$)</th>\n",
       "      <th>Spending Score (1-100)</th>\n",
       "    </tr>\n",
       "  </thead>\n",
       "  <tbody>\n",
       "    <tr>\n",
       "      <th>0</th>\n",
       "      <td>Male</td>\n",
       "      <td>19</td>\n",
       "      <td>15</td>\n",
       "      <td>39</td>\n",
       "    </tr>\n",
       "    <tr>\n",
       "      <th>1</th>\n",
       "      <td>Male</td>\n",
       "      <td>21</td>\n",
       "      <td>15</td>\n",
       "      <td>81</td>\n",
       "    </tr>\n",
       "    <tr>\n",
       "      <th>2</th>\n",
       "      <td>Female</td>\n",
       "      <td>20</td>\n",
       "      <td>16</td>\n",
       "      <td>6</td>\n",
       "    </tr>\n",
       "    <tr>\n",
       "      <th>3</th>\n",
       "      <td>Female</td>\n",
       "      <td>23</td>\n",
       "      <td>16</td>\n",
       "      <td>77</td>\n",
       "    </tr>\n",
       "    <tr>\n",
       "      <th>4</th>\n",
       "      <td>Female</td>\n",
       "      <td>31</td>\n",
       "      <td>17</td>\n",
       "      <td>40</td>\n",
       "    </tr>\n",
       "  </tbody>\n",
       "</table>\n",
       "</div>"
      ],
      "text/plain": [
       "   Gender  Age  Annual Income (k$)  Spending Score (1-100)\n",
       "0    Male   19                  15                      39\n",
       "1    Male   21                  15                      81\n",
       "2  Female   20                  16                       6\n",
       "3  Female   23                  16                      77\n",
       "4  Female   31                  17                      40"
      ]
     },
     "execution_count": 12,
     "metadata": {},
     "output_type": "execute_result"
    }
   ],
   "source": [
    "# CustomerID variable is a number that is there to distinguish the individuals from one another, not to carry any numeric information.\n",
    "# We should drop it. \n",
    "data = data.drop([\"CustomerID\"], axis = 1) \n",
    "data.head()"
   ]
  },
  {
   "cell_type": "code",
   "execution_count": 13,
   "metadata": {
    "execution": {
     "iopub.execute_input": "2020-11-15T17:44:59.212205Z",
     "iopub.status.busy": "2020-11-15T17:44:59.211049Z",
     "iopub.status.idle": "2020-11-15T17:44:59.216287Z",
     "shell.execute_reply": "2020-11-15T17:44:59.215638Z"
    },
    "papermill": {
     "duration": 0.054964,
     "end_time": "2020-11-15T17:44:59.216422",
     "exception": false,
     "start_time": "2020-11-15T17:44:59.161458",
     "status": "completed"
    },
    "tags": []
   },
   "outputs": [
    {
     "data": {
      "text/html": [
       "<div>\n",
       "<style scoped>\n",
       "    .dataframe tbody tr th:only-of-type {\n",
       "        vertical-align: middle;\n",
       "    }\n",
       "\n",
       "    .dataframe tbody tr th {\n",
       "        vertical-align: top;\n",
       "    }\n",
       "\n",
       "    .dataframe thead th {\n",
       "        text-align: right;\n",
       "    }\n",
       "</style>\n",
       "<table border=\"1\" class=\"dataframe\">\n",
       "  <thead>\n",
       "    <tr style=\"text-align: right;\">\n",
       "      <th></th>\n",
       "      <th>Gender</th>\n",
       "      <th>Age</th>\n",
       "      <th>Annual Income (k$)</th>\n",
       "      <th>Spending Score (1-100)</th>\n",
       "    </tr>\n",
       "  </thead>\n",
       "  <tbody>\n",
       "    <tr>\n",
       "      <th>0</th>\n",
       "      <td>0</td>\n",
       "      <td>19</td>\n",
       "      <td>15</td>\n",
       "      <td>39</td>\n",
       "    </tr>\n",
       "    <tr>\n",
       "      <th>1</th>\n",
       "      <td>0</td>\n",
       "      <td>21</td>\n",
       "      <td>15</td>\n",
       "      <td>81</td>\n",
       "    </tr>\n",
       "    <tr>\n",
       "      <th>2</th>\n",
       "      <td>1</td>\n",
       "      <td>20</td>\n",
       "      <td>16</td>\n",
       "      <td>6</td>\n",
       "    </tr>\n",
       "    <tr>\n",
       "      <th>3</th>\n",
       "      <td>1</td>\n",
       "      <td>23</td>\n",
       "      <td>16</td>\n",
       "      <td>77</td>\n",
       "    </tr>\n",
       "    <tr>\n",
       "      <th>4</th>\n",
       "      <td>1</td>\n",
       "      <td>31</td>\n",
       "      <td>17</td>\n",
       "      <td>40</td>\n",
       "    </tr>\n",
       "  </tbody>\n",
       "</table>\n",
       "</div>"
      ],
      "text/plain": [
       "   Gender  Age  Annual Income (k$)  Spending Score (1-100)\n",
       "0       0   19                  15                      39\n",
       "1       0   21                  15                      81\n",
       "2       1   20                  16                       6\n",
       "3       1   23                  16                      77\n",
       "4       1   31                  17                      40"
      ]
     },
     "execution_count": 13,
     "metadata": {},
     "output_type": "execute_result"
    }
   ],
   "source": [
    "# Data transformation\n",
    "data[\"Gender\"] = data[\"Gender\"].map({\"Male\":0, \"Female\":1})\n",
    "data.head()"
   ]
  },
  {
   "cell_type": "code",
   "execution_count": 14,
   "metadata": {
    "execution": {
     "iopub.execute_input": "2020-11-15T17:44:59.302032Z",
     "iopub.status.busy": "2020-11-15T17:44:59.300898Z",
     "iopub.status.idle": "2020-11-15T17:44:59.303778Z",
     "shell.execute_reply": "2020-11-15T17:44:59.304315Z"
    },
    "papermill": {
     "duration": 0.051473,
     "end_time": "2020-11-15T17:44:59.304505",
     "exception": false,
     "start_time": "2020-11-15T17:44:59.253032",
     "status": "completed"
    },
    "tags": []
   },
   "outputs": [],
   "source": [
    "# Outlier detection\n",
    "def detect_outlier(df, features):\n",
    "    outlier_indices = []\n",
    "    \n",
    "    for c in features:\n",
    "        # 1st quartile\n",
    "        Q1 = np.percentile(df[c],25)\n",
    "        # 3rd quartile\n",
    "        Q3 = np.percentile(df[c],75)\n",
    "        # IQR\n",
    "        IQR = Q3 - Q1\n",
    "        # outlier step\n",
    "        outlier_step = IQR * 1.5\n",
    "        # detect outlier and their indices\n",
    "        outlier_list_col = df[(df[c] < Q1 - outlier_step) | (df[c] > Q3 + outlier_step)].index\n",
    "        # store indices\n",
    "        outlier_indices.extend(outlier_list_col)\n",
    "    \n",
    "    outlier_indices = Counter(outlier_indices)\n",
    "    multiple_outliers = list(i for i, v in outlier_indices.items() if v > 1)\n",
    "    \n",
    "    return multiple_outliers"
   ]
  },
  {
   "cell_type": "code",
   "execution_count": 15,
   "metadata": {
    "execution": {
     "iopub.execute_input": "2020-11-15T17:44:59.385889Z",
     "iopub.status.busy": "2020-11-15T17:44:59.384829Z",
     "iopub.status.idle": "2020-11-15T17:44:59.416937Z",
     "shell.execute_reply": "2020-11-15T17:44:59.416157Z"
    },
    "papermill": {
     "duration": 0.075635,
     "end_time": "2020-11-15T17:44:59.417080",
     "exception": false,
     "start_time": "2020-11-15T17:44:59.341445",
     "status": "completed"
    },
    "tags": []
   },
   "outputs": [
    {
     "data": {
      "text/html": [
       "<div>\n",
       "<style scoped>\n",
       "    .dataframe tbody tr th:only-of-type {\n",
       "        vertical-align: middle;\n",
       "    }\n",
       "\n",
       "    .dataframe tbody tr th {\n",
       "        vertical-align: top;\n",
       "    }\n",
       "\n",
       "    .dataframe thead th {\n",
       "        text-align: right;\n",
       "    }\n",
       "</style>\n",
       "<table border=\"1\" class=\"dataframe\">\n",
       "  <thead>\n",
       "    <tr style=\"text-align: right;\">\n",
       "      <th></th>\n",
       "      <th>Gender</th>\n",
       "      <th>Age</th>\n",
       "      <th>Annual Income (k$)</th>\n",
       "      <th>Spending Score (1-100)</th>\n",
       "    </tr>\n",
       "  </thead>\n",
       "  <tbody>\n",
       "  </tbody>\n",
       "</table>\n",
       "</div>"
      ],
      "text/plain": [
       "Empty DataFrame\n",
       "Columns: [Gender, Age, Annual Income (k$), Spending Score (1-100)]\n",
       "Index: []"
      ]
     },
     "execution_count": 15,
     "metadata": {},
     "output_type": "execute_result"
    }
   ],
   "source": [
    "from collections import Counter\n",
    "data.loc[detect_outlier(data,[\"Age\", \"Annual Income (k$)\", \"Spending Score (1-100)\"])]"
   ]
  },
  {
   "cell_type": "markdown",
   "metadata": {
    "papermill": {
     "duration": 0.03694,
     "end_time": "2020-11-15T17:44:59.491424",
     "exception": false,
     "start_time": "2020-11-15T17:44:59.454484",
     "status": "completed"
    },
    "tags": []
   },
   "source": [
    "We have no outliers."
   ]
  },
  {
   "cell_type": "code",
   "execution_count": 16,
   "metadata": {
    "execution": {
     "iopub.execute_input": "2020-11-15T17:44:59.575230Z",
     "iopub.status.busy": "2020-11-15T17:44:59.574194Z",
     "iopub.status.idle": "2020-11-15T17:44:59.578545Z",
     "shell.execute_reply": "2020-11-15T17:44:59.577792Z"
    },
    "papermill": {
     "duration": 0.049443,
     "end_time": "2020-11-15T17:44:59.578678",
     "exception": false,
     "start_time": "2020-11-15T17:44:59.529235",
     "status": "completed"
    },
    "tags": []
   },
   "outputs": [
    {
     "data": {
      "text/plain": [
       "Gender                    0\n",
       "Age                       0\n",
       "Annual Income (k$)        0\n",
       "Spending Score (1-100)    0\n",
       "dtype: int64"
      ]
     },
     "execution_count": 16,
     "metadata": {},
     "output_type": "execute_result"
    }
   ],
   "source": [
    "# Missing Values\n",
    "data.isnull().sum()"
   ]
  },
  {
   "cell_type": "markdown",
   "metadata": {
    "papermill": {
     "duration": 0.03781,
     "end_time": "2020-11-15T17:44:59.654240",
     "exception": false,
     "start_time": "2020-11-15T17:44:59.616430",
     "status": "completed"
    },
    "tags": []
   },
   "source": [
    "We have no missing values."
   ]
  },
  {
   "cell_type": "code",
   "execution_count": 17,
   "metadata": {
    "execution": {
     "iopub.execute_input": "2020-11-15T17:44:59.742355Z",
     "iopub.status.busy": "2020-11-15T17:44:59.741447Z",
     "iopub.status.idle": "2020-11-15T17:44:59.747022Z",
     "shell.execute_reply": "2020-11-15T17:44:59.746240Z"
    },
    "papermill": {
     "duration": 0.055032,
     "end_time": "2020-11-15T17:44:59.747166",
     "exception": false,
     "start_time": "2020-11-15T17:44:59.692134",
     "status": "completed"
    },
    "tags": []
   },
   "outputs": [
    {
     "data": {
      "text/html": [
       "<div>\n",
       "<style scoped>\n",
       "    .dataframe tbody tr th:only-of-type {\n",
       "        vertical-align: middle;\n",
       "    }\n",
       "\n",
       "    .dataframe tbody tr th {\n",
       "        vertical-align: top;\n",
       "    }\n",
       "\n",
       "    .dataframe thead th {\n",
       "        text-align: right;\n",
       "    }\n",
       "</style>\n",
       "<table border=\"1\" class=\"dataframe\">\n",
       "  <thead>\n",
       "    <tr style=\"text-align: right;\">\n",
       "      <th></th>\n",
       "      <th>Gender</th>\n",
       "      <th>Age</th>\n",
       "      <th>Annual Income (k$)</th>\n",
       "      <th>Spending Score (1-100)</th>\n",
       "    </tr>\n",
       "  </thead>\n",
       "  <tbody>\n",
       "    <tr>\n",
       "      <th>0</th>\n",
       "      <td>0</td>\n",
       "      <td>19</td>\n",
       "      <td>15</td>\n",
       "      <td>39</td>\n",
       "    </tr>\n",
       "    <tr>\n",
       "      <th>1</th>\n",
       "      <td>0</td>\n",
       "      <td>21</td>\n",
       "      <td>15</td>\n",
       "      <td>81</td>\n",
       "    </tr>\n",
       "    <tr>\n",
       "      <th>2</th>\n",
       "      <td>1</td>\n",
       "      <td>20</td>\n",
       "      <td>16</td>\n",
       "      <td>6</td>\n",
       "    </tr>\n",
       "    <tr>\n",
       "      <th>3</th>\n",
       "      <td>1</td>\n",
       "      <td>23</td>\n",
       "      <td>16</td>\n",
       "      <td>77</td>\n",
       "    </tr>\n",
       "    <tr>\n",
       "      <th>4</th>\n",
       "      <td>1</td>\n",
       "      <td>31</td>\n",
       "      <td>17</td>\n",
       "      <td>40</td>\n",
       "    </tr>\n",
       "  </tbody>\n",
       "</table>\n",
       "</div>"
      ],
      "text/plain": [
       "   Gender  Age  Annual Income (k$)  Spending Score (1-100)\n",
       "0       0   19                  15                      39\n",
       "1       0   21                  15                      81\n",
       "2       1   20                  16                       6\n",
       "3       1   23                  16                      77\n",
       "4       1   31                  17                      40"
      ]
     },
     "execution_count": 17,
     "metadata": {},
     "output_type": "execute_result"
    }
   ],
   "source": [
    "data.head()"
   ]
  },
  {
   "cell_type": "code",
   "execution_count": 18,
   "metadata": {
    "execution": {
     "iopub.execute_input": "2020-11-15T17:44:59.832389Z",
     "iopub.status.busy": "2020-11-15T17:44:59.831519Z",
     "iopub.status.idle": "2020-11-15T17:44:59.834808Z",
     "shell.execute_reply": "2020-11-15T17:44:59.834074Z"
    },
    "papermill": {
     "duration": 0.048667,
     "end_time": "2020-11-15T17:44:59.834943",
     "exception": false,
     "start_time": "2020-11-15T17:44:59.786276",
     "status": "completed"
    },
    "tags": []
   },
   "outputs": [],
   "source": [
    "#We will make segmentation considering only 2 features (Annual income and Spending Score)\n",
    "df = data.iloc[:, [2,3]].values"
   ]
  },
  {
   "cell_type": "markdown",
   "metadata": {
    "papermill": {
     "duration": 0.038436,
     "end_time": "2020-11-15T17:44:59.912330",
     "exception": false,
     "start_time": "2020-11-15T17:44:59.873894",
     "status": "completed"
    },
    "tags": []
   },
   "source": [
    "## <a id='6.'> 6. Modelling</a>"
   ]
  },
  {
   "cell_type": "code",
   "execution_count": 19,
   "metadata": {
    "execution": {
     "iopub.execute_input": "2020-11-15T17:44:59.997502Z",
     "iopub.status.busy": "2020-11-15T17:44:59.996679Z",
     "iopub.status.idle": "2020-11-15T17:45:00.352515Z",
     "shell.execute_reply": "2020-11-15T17:45:00.351560Z"
    },
    "papermill": {
     "duration": 0.401447,
     "end_time": "2020-11-15T17:45:00.352666",
     "exception": false,
     "start_time": "2020-11-15T17:44:59.951219",
     "status": "completed"
    },
    "tags": []
   },
   "outputs": [],
   "source": [
    "from sklearn.cluster import KMeans\n",
    "wcss = []"
   ]
  },
  {
   "cell_type": "code",
   "execution_count": 20,
   "metadata": {
    "execution": {
     "iopub.execute_input": "2020-11-15T17:45:00.441982Z",
     "iopub.status.busy": "2020-11-15T17:45:00.440966Z",
     "iopub.status.idle": "2020-11-15T17:45:00.926899Z",
     "shell.execute_reply": "2020-11-15T17:45:00.926184Z"
    },
    "papermill": {
     "duration": 0.534726,
     "end_time": "2020-11-15T17:45:00.927066",
     "exception": false,
     "start_time": "2020-11-15T17:45:00.392340",
     "status": "completed"
    },
    "tags": []
   },
   "outputs": [],
   "source": [
    "for k in range(1,11):\n",
    "    kmeans = KMeans(n_clusters = k)\n",
    "    kmeans.fit(df)\n",
    "    wcss.append(kmeans.inertia_)"
   ]
  },
  {
   "cell_type": "code",
   "execution_count": 21,
   "metadata": {
    "execution": {
     "iopub.execute_input": "2020-11-15T17:45:01.024885Z",
     "iopub.status.busy": "2020-11-15T17:45:01.023993Z",
     "iopub.status.idle": "2020-11-15T17:45:01.173676Z",
     "shell.execute_reply": "2020-11-15T17:45:01.172921Z"
    },
    "papermill": {
     "duration": 0.206403,
     "end_time": "2020-11-15T17:45:01.173844",
     "exception": false,
     "start_time": "2020-11-15T17:45:00.967441",
     "status": "completed"
    },
    "tags": []
   },
   "outputs": [
    {
     "data": {
      "image/png": "[encoded data removed]",
      "text/plain": [
       "<Figure size 432x288 with 1 Axes>"
      ]
     },
     "metadata": {
      "needs_background": "light"
     },
     "output_type": "display_data"
    }
   ],
   "source": [
    "# To define the sengent number we use the elbow method.\n",
    "plt.plot(range(1,11),wcss)\n",
    "plt.xlabel(\"number of k (cluster) value\")\n",
    "plt.ylabel(\"wcss\")\n",
    "plt.show()"
   ]
  },
  {
   "cell_type": "code",
   "execution_count": 22,
   "metadata": {
    "execution": {
     "iopub.execute_input": "2020-11-15T17:45:01.261510Z",
     "iopub.status.busy": "2020-11-15T17:45:01.260545Z",
     "iopub.status.idle": "2020-11-15T17:45:01.305763Z",
     "shell.execute_reply": "2020-11-15T17:45:01.305067Z"
    },
    "papermill": {
     "duration": 0.091484,
     "end_time": "2020-11-15T17:45:01.305909",
     "exception": false,
     "start_time": "2020-11-15T17:45:01.214425",
     "status": "completed"
    },
    "tags": []
   },
   "outputs": [
    {
     "data": {
      "text/plain": [
       "array([0, 1, 0, 1, 0, 1, 0, 1, 0, 1, 0, 1, 0, 1, 0, 1, 0, 1, 0, 1, 0, 1,\n",
       "       0, 1, 0, 1, 0, 1, 0, 1, 0, 1, 0, 1, 0, 1, 0, 1, 0, 1, 0, 1, 0, 4,\n",
       "       0, 1, 4, 4, 4, 4, 4, 4, 4, 4, 4, 4, 4, 4, 4, 4, 4, 4, 4, 4, 4, 4,\n",
       "       4, 4, 4, 4, 4, 4, 4, 4, 4, 4, 4, 4, 4, 4, 4, 4, 4, 4, 4, 4, 4, 4,\n",
       "       4, 4, 4, 4, 4, 4, 4, 4, 4, 4, 4, 4, 4, 4, 4, 4, 4, 4, 4, 4, 4, 4,\n",
       "       4, 4, 4, 4, 4, 4, 4, 4, 4, 4, 4, 4, 4, 3, 2, 3, 4, 3, 2, 3, 2, 3,\n",
       "       4, 3, 2, 3, 2, 3, 2, 3, 2, 3, 4, 3, 2, 3, 2, 3, 2, 3, 2, 3, 2, 3,\n",
       "       2, 3, 2, 3, 2, 3, 2, 3, 2, 3, 2, 3, 2, 3, 2, 3, 2, 3, 2, 3, 2, 3,\n",
       "       2, 3, 2, 3, 2, 3, 2, 3, 2, 3, 2, 3, 2, 3, 2, 3, 2, 3, 2, 3, 2, 3,\n",
       "       2, 3], dtype=int32)"
      ]
     },
     "execution_count": 22,
     "metadata": {},
     "output_type": "execute_result"
    }
   ],
   "source": [
    "# From graph above we see that elbow method indicates five clusters.\n",
    "kmeans2 = KMeans(n_clusters = 5)\n",
    "clusters = kmeans2.fit_predict(df)\n",
    "clusters"
   ]
  },
  {
   "cell_type": "code",
   "execution_count": 23,
   "metadata": {
    "execution": {
     "iopub.execute_input": "2020-11-15T17:45:01.396413Z",
     "iopub.status.busy": "2020-11-15T17:45:01.395631Z",
     "iopub.status.idle": "2020-11-15T17:45:01.398984Z",
     "shell.execute_reply": "2020-11-15T17:45:01.398228Z"
    },
    "papermill": {
     "duration": 0.051019,
     "end_time": "2020-11-15T17:45:01.399123",
     "exception": false,
     "start_time": "2020-11-15T17:45:01.348104",
     "status": "completed"
    },
    "tags": []
   },
   "outputs": [],
   "source": [
    "# Adding cluster information to the dataset\n",
    "data[\"label\"] = clusters"
   ]
  },
  {
   "cell_type": "code",
   "execution_count": 24,
   "metadata": {
    "execution": {
     "iopub.execute_input": "2020-11-15T17:45:01.501888Z",
     "iopub.status.busy": "2020-11-15T17:45:01.497119Z",
     "iopub.status.idle": "2020-11-15T17:45:01.679666Z",
     "shell.execute_reply": "2020-11-15T17:45:01.679050Z"
    },
    "papermill": {
     "duration": 0.238809,
     "end_time": "2020-11-15T17:45:01.679819",
     "exception": false,
     "start_time": "2020-11-15T17:45:01.441010",
     "status": "completed"
    },
    "tags": []
   },
   "outputs": [
    {
     "data": {
      "image/png": "[encoded data removed]",
      "text/plain": [
       "<Figure size 432x288 with 1 Axes>"
      ]
     },
     "metadata": {
      "needs_background": "light"
     },
     "output_type": "display_data"
    }
   ],
   "source": [
    "# Visualizing the clusters\n",
    "plt.scatter(data[\"Annual Income (k$)\"][data.label == 0],data[\"Spending Score (1-100)\"][data.label == 0], color=\"red\")\n",
    "plt.scatter(data[\"Annual Income (k$)\"][data.label == 1],data[\"Spending Score (1-100)\"][data.label == 1], color=\"green\")\n",
    "plt.scatter(data[\"Annual Income (k$)\"][data.label == 2],data[\"Spending Score (1-100)\"][data.label == 2], color=\"blue\")\n",
    "plt.scatter(data[\"Annual Income (k$)\"][data.label == 3],data[\"Spending Score (1-100)\"][data.label == 3], color=\"orange\")\n",
    "plt.scatter(data[\"Annual Income (k$)\"][data.label == 4],data[\"Spending Score (1-100)\"][data.label == 4], color=\"pink\")\n",
    "plt.scatter(kmeans2.cluster_centers_[:,0],kmeans2.cluster_centers_[:,1],color=\"yellow\")\n",
    "plt.show()"
   ]
  },
  {
   "cell_type": "code",
   "execution_count": null,
   "metadata": {
    "papermill": {
     "duration": 0.041699,
     "end_time": "2020-11-15T17:45:01.764271",
     "exception": false,
     "start_time": "2020-11-15T17:45:01.722572",
     "status": "completed"
    },
    "tags": []
   },
   "outputs": [],
   "source": []
  }
 ],
 "metadata": {
  "kernelspec": {
   "display_name": "Python 3 (ipykernel)",
   "language": "python",
   "name": "python3"
  },
  "language_info": {
   "codemirror_mode": {
    "name": "ipython",
    "version": 3
   },
   "file_extension": ".py",
   "mimetype": "text/x-python",
   "name": "python",
   "nbconvert_exporter": "python",
   "pygments_lexer": "ipython3",
   "version": "3.11.7"
  },
  "papermill": {
   "duration": 12.883102,
   "end_time": "2020-11-15T17:45:01.915175",
   "environment_variables": {},
   "exception": null,
   "input_path": "__notebook__.ipynb",
   "output_path": "__notebook__.ipynb",
   "parameters": {},
   "start_time": "2020-11-15T17:44:49.032073",
   "version": "2.1.0"
  }
 },
 "nbformat": 4,
 "nbformat_minor": 4
}
